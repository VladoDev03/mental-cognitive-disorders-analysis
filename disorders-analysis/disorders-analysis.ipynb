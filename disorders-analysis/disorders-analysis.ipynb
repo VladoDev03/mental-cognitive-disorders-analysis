{
 "cells": [
  {
   "cell_type": "code",
   "execution_count": 306,
   "id": "af26e3cd",
   "metadata": {},
   "outputs": [],
   "source": [
    "%matplotlib inline"
   ]
  },
  {
   "cell_type": "code",
   "execution_count": 396,
   "id": "f9e1363a",
   "metadata": {},
   "outputs": [],
   "source": [
    "import re\n",
    "import zipfile\n",
    "import os\n",
    "\n",
    "import pandas as pd\n",
    "import matplotlib.pyplot as plt\n",
    "import seaborn as sns\n",
    "import scipy.stats as st\n",
    "from sklearn.preprocessing import OrdinalEncoder, OneHotEncoder\n",
    "from sklearn.linear_model import LinearRegression\n",
    "from sklearn.model_selection import train_test_split\n",
    "from sklearn.metrics import mean_squared_error, r2_score"
   ]
  },
  {
   "cell_type": "markdown",
   "id": "d6912c1a",
   "metadata": {},
   "source": [
    "# Mental disorders analysis"
   ]
  },
  {
   "cell_type": "markdown",
   "id": "9fcb76de",
   "metadata": {},
   "source": [
    "## Introduction"
   ]
  },
  {
   "cell_type": "markdown",
   "id": "f7b88088",
   "metadata": {},
   "source": [
    "Nowadays, more and more people experience mental health disorders. For some, the symptoms improve over time without treatment, while others need professional therapy and support. Mental disorders can affect anyone, often triggered by factors we least expect. The most common conditions include Depression and Anxiety, while Obsessive Compulsive Disorder (OCD) is less frequent but still significant.\n",
    "\n",
    "In this project, I will explore these disorders through five different datasets, aiming to answer important questions and better understand their patterns and impact."
   ]
  },
  {
   "cell_type": "markdown",
   "id": "10466a66",
   "metadata": {},
   "source": [
    "## Plan\n",
    "Although the project title is *Mental disorders analysis*, we are going to analize only a few like depression, anxiety and Obsessive Compulsive Disorder\n",
    "\n",
    "Some words why I chose the datasets\n",
    "\n",
    "Some questions to ask\n",
    "\n",
    "Approaches\n",
    "\n",
    "At the beginning we are going to clean some datasets. Then we will proceed to make some hypotesis and prove or reject them. We are also going to compare results from multiple datasets.\n",
    "\n",
    "Then we will try to train a model using Regression that will try to predict whether a person has any of the above mentioned disorders.\n",
    "\n",
    "In the end, we will try to find typical behavior for those disorders and then compare it to other disorders."
   ]
  },
  {
   "cell_type": "markdown",
   "id": "8f7bcb84",
   "metadata": {},
   "source": [
    "# Notes"
   ]
  },
  {
   "cell_type": "markdown",
   "id": "83ca575b",
   "metadata": {},
   "source": [
    "## Data Cleanup"
   ]
  },
  {
   "cell_type": "markdown",
   "id": "77ab9c9f",
   "metadata": {},
   "source": [
    "Let's begin by creating a function that will be used for renaming columns to *snake_case*"
   ]
  },
  {
   "cell_type": "code",
   "execution_count": 308,
   "id": "c380dfdf",
   "metadata": {},
   "outputs": [],
   "source": [
    "def to_snake_case(col_name):\n",
    "    col_name = col_name.strip()\n",
    "    col_name = col_name.lower()\n",
    "    col_name = re.sub(r\"[^\\w\\s]\", \"_\", col_name) # replace non-alphanumeric characters with underscores\n",
    "    col_name = re.sub(r\"\\s+\", \"_\", col_name) # regex is used instead of replace to handle multiple spaces\n",
    "    col_name = re.sub(r\"_+\", \"_\", col_name)  # replace multiple underscores with a single underscore\n",
    "    col_name = col_name.rstrip(\"_\")\n",
    "\n",
    "    return col_name"
   ]
  },
  {
   "cell_type": "markdown",
   "id": "b83921f3",
   "metadata": {},
   "source": [
    "Because we will mostly work with numerical data, we need a way to represent categorical data as integers."
   ]
  },
  {
   "cell_type": "code",
   "execution_count": 311,
   "id": "391c31cb",
   "metadata": {},
   "outputs": [],
   "source": [
    "# val1 and val2 are case insensitive and default to 'yes' and 'no'\n",
    "def binary_encode(df, column, val1 = 'yes', val2 = 'no'):\n",
    "    df[column] = df[column].str.lower().map({val1.lower(): 1, val2.lower(): 0})"
   ]
  },
  {
   "cell_type": "code",
   "execution_count": 312,
   "id": "c7d0a769",
   "metadata": {},
   "outputs": [],
   "source": [
    "# nominal encoding using OneHotEncoder\n",
    "def one_hot_encode(df, column):\n",
    "    ohe = OneHotEncoder(handle_unknown='ignore', sparse_output=False).set_output(transform=\"pandas\")\n",
    "    ohetransform = ohe.fit_transform(df[[column]])\n",
    "    df = pd.concat([df, ohetransform], axis=1).drop(column, axis=1)"
   ]
  },
  {
   "cell_type": "code",
   "execution_count": 313,
   "id": "d3785ee3",
   "metadata": {},
   "outputs": [],
   "source": [
    "def ordinal_encode(df, column, categories_order):\n",
    "    # Transform both the list and the column to lowercase for consistency and case insensitivity\n",
    "    categories_order_lower = [cat.lower() for cat in categories_order]\n",
    "    df[column] = df[column].str.lower()\n",
    "\n",
    "    encoder = OrdinalEncoder(categories=[categories_order_lower])\n",
    "    df[column] = encoder.fit_transform(df[[column]])"
   ]
  },
  {
   "cell_type": "markdown",
   "id": "82a413d8",
   "metadata": {},
   "source": [
    "Of course, we will need some plotting functions"
   ]
  },
  {
   "cell_type": "code",
   "execution_count": 314,
   "id": "4d26f3dc",
   "metadata": {},
   "outputs": [],
   "source": [
    "def plot_category_counts(df, column_name, title=None, xlabel=None, ylabel=\"Count\"):\n",
    "    category_stats = df[column_name].value_counts()\n",
    "    \n",
    "    categories = category_stats.index\n",
    "    counts = category_stats.values\n",
    "\n",
    "    plt.bar(categories, counts)\n",
    "    plt.title(title if title else f\"Students by {column_name}\")\n",
    "    plt.xlabel(xlabel if xlabel else column_name)\n",
    "    plt.ylabel(ylabel)\n",
    "\n",
    "    for i, count in enumerate(counts):\n",
    "        plt.text(i, count, str(count), ha='center', va='bottom')\n",
    "\n",
    "    plt.show()"
   ]
  },
  {
   "cell_type": "markdown",
   "id": "9b734bc4",
   "metadata": {},
   "source": [
    "### Student Depression"
   ]
  },
  {
   "cell_type": "markdown",
   "id": "e275ab4d",
   "metadata": {},
   "source": [
    "Let's start with the Student Depression Dataset.csv dataset."
   ]
  },
  {
   "cell_type": "code",
   "execution_count": 315,
   "id": "98e7cbab",
   "metadata": {},
   "outputs": [],
   "source": [
    "student_depression_data = pd.read_csv('data/Student Depression Dataset.csv')"
   ]
  },
  {
   "cell_type": "code",
   "execution_count": 316,
   "id": "3c8ac960",
   "metadata": {},
   "outputs": [
    {
     "data": {
      "text/html": [
       "<div>\n",
       "<style scoped>\n",
       "    .dataframe tbody tr th:only-of-type {\n",
       "        vertical-align: middle;\n",
       "    }\n",
       "\n",
       "    .dataframe tbody tr th {\n",
       "        vertical-align: top;\n",
       "    }\n",
       "\n",
       "    .dataframe thead th {\n",
       "        text-align: right;\n",
       "    }\n",
       "</style>\n",
       "<table border=\"1\" class=\"dataframe\">\n",
       "  <thead>\n",
       "    <tr style=\"text-align: right;\">\n",
       "      <th></th>\n",
       "      <th>id</th>\n",
       "      <th>Gender</th>\n",
       "      <th>Age</th>\n",
       "      <th>City</th>\n",
       "      <th>Profession</th>\n",
       "      <th>Academic Pressure</th>\n",
       "      <th>Work Pressure</th>\n",
       "      <th>CGPA</th>\n",
       "      <th>Study Satisfaction</th>\n",
       "      <th>Job Satisfaction</th>\n",
       "      <th>Sleep Duration</th>\n",
       "      <th>Dietary Habits</th>\n",
       "      <th>Degree</th>\n",
       "      <th>Have you ever had suicidal thoughts ?</th>\n",
       "      <th>Work/Study Hours</th>\n",
       "      <th>Financial Stress</th>\n",
       "      <th>Family History of Mental Illness</th>\n",
       "      <th>Depression</th>\n",
       "    </tr>\n",
       "  </thead>\n",
       "  <tbody>\n",
       "    <tr>\n",
       "      <th>0</th>\n",
       "      <td>2</td>\n",
       "      <td>Male</td>\n",
       "      <td>33.0</td>\n",
       "      <td>Visakhapatnam</td>\n",
       "      <td>Student</td>\n",
       "      <td>5.0</td>\n",
       "      <td>0.0</td>\n",
       "      <td>8.97</td>\n",
       "      <td>2.0</td>\n",
       "      <td>0.0</td>\n",
       "      <td>5-6 hours</td>\n",
       "      <td>Healthy</td>\n",
       "      <td>B.Pharm</td>\n",
       "      <td>Yes</td>\n",
       "      <td>3.0</td>\n",
       "      <td>1.0</td>\n",
       "      <td>No</td>\n",
       "      <td>1</td>\n",
       "    </tr>\n",
       "    <tr>\n",
       "      <th>1</th>\n",
       "      <td>8</td>\n",
       "      <td>Female</td>\n",
       "      <td>24.0</td>\n",
       "      <td>Bangalore</td>\n",
       "      <td>Student</td>\n",
       "      <td>2.0</td>\n",
       "      <td>0.0</td>\n",
       "      <td>5.90</td>\n",
       "      <td>5.0</td>\n",
       "      <td>0.0</td>\n",
       "      <td>5-6 hours</td>\n",
       "      <td>Moderate</td>\n",
       "      <td>BSc</td>\n",
       "      <td>No</td>\n",
       "      <td>3.0</td>\n",
       "      <td>2.0</td>\n",
       "      <td>Yes</td>\n",
       "      <td>0</td>\n",
       "    </tr>\n",
       "    <tr>\n",
       "      <th>2</th>\n",
       "      <td>26</td>\n",
       "      <td>Male</td>\n",
       "      <td>31.0</td>\n",
       "      <td>Srinagar</td>\n",
       "      <td>Student</td>\n",
       "      <td>3.0</td>\n",
       "      <td>0.0</td>\n",
       "      <td>7.03</td>\n",
       "      <td>5.0</td>\n",
       "      <td>0.0</td>\n",
       "      <td>Less than 5 hours</td>\n",
       "      <td>Healthy</td>\n",
       "      <td>BA</td>\n",
       "      <td>No</td>\n",
       "      <td>9.0</td>\n",
       "      <td>1.0</td>\n",
       "      <td>Yes</td>\n",
       "      <td>0</td>\n",
       "    </tr>\n",
       "    <tr>\n",
       "      <th>3</th>\n",
       "      <td>30</td>\n",
       "      <td>Female</td>\n",
       "      <td>28.0</td>\n",
       "      <td>Varanasi</td>\n",
       "      <td>Student</td>\n",
       "      <td>3.0</td>\n",
       "      <td>0.0</td>\n",
       "      <td>5.59</td>\n",
       "      <td>2.0</td>\n",
       "      <td>0.0</td>\n",
       "      <td>7-8 hours</td>\n",
       "      <td>Moderate</td>\n",
       "      <td>BCA</td>\n",
       "      <td>Yes</td>\n",
       "      <td>4.0</td>\n",
       "      <td>5.0</td>\n",
       "      <td>Yes</td>\n",
       "      <td>1</td>\n",
       "    </tr>\n",
       "    <tr>\n",
       "      <th>4</th>\n",
       "      <td>32</td>\n",
       "      <td>Female</td>\n",
       "      <td>25.0</td>\n",
       "      <td>Jaipur</td>\n",
       "      <td>Student</td>\n",
       "      <td>4.0</td>\n",
       "      <td>0.0</td>\n",
       "      <td>8.13</td>\n",
       "      <td>3.0</td>\n",
       "      <td>0.0</td>\n",
       "      <td>5-6 hours</td>\n",
       "      <td>Moderate</td>\n",
       "      <td>M.Tech</td>\n",
       "      <td>Yes</td>\n",
       "      <td>1.0</td>\n",
       "      <td>1.0</td>\n",
       "      <td>No</td>\n",
       "      <td>0</td>\n",
       "    </tr>\n",
       "    <tr>\n",
       "      <th>...</th>\n",
       "      <td>...</td>\n",
       "      <td>...</td>\n",
       "      <td>...</td>\n",
       "      <td>...</td>\n",
       "      <td>...</td>\n",
       "      <td>...</td>\n",
       "      <td>...</td>\n",
       "      <td>...</td>\n",
       "      <td>...</td>\n",
       "      <td>...</td>\n",
       "      <td>...</td>\n",
       "      <td>...</td>\n",
       "      <td>...</td>\n",
       "      <td>...</td>\n",
       "      <td>...</td>\n",
       "      <td>...</td>\n",
       "      <td>...</td>\n",
       "      <td>...</td>\n",
       "    </tr>\n",
       "    <tr>\n",
       "      <th>27896</th>\n",
       "      <td>140685</td>\n",
       "      <td>Female</td>\n",
       "      <td>27.0</td>\n",
       "      <td>Surat</td>\n",
       "      <td>Student</td>\n",
       "      <td>5.0</td>\n",
       "      <td>0.0</td>\n",
       "      <td>5.75</td>\n",
       "      <td>5.0</td>\n",
       "      <td>0.0</td>\n",
       "      <td>5-6 hours</td>\n",
       "      <td>Unhealthy</td>\n",
       "      <td>Class 12</td>\n",
       "      <td>Yes</td>\n",
       "      <td>7.0</td>\n",
       "      <td>1.0</td>\n",
       "      <td>Yes</td>\n",
       "      <td>0</td>\n",
       "    </tr>\n",
       "    <tr>\n",
       "      <th>27897</th>\n",
       "      <td>140686</td>\n",
       "      <td>Male</td>\n",
       "      <td>27.0</td>\n",
       "      <td>Ludhiana</td>\n",
       "      <td>Student</td>\n",
       "      <td>2.0</td>\n",
       "      <td>0.0</td>\n",
       "      <td>9.40</td>\n",
       "      <td>3.0</td>\n",
       "      <td>0.0</td>\n",
       "      <td>Less than 5 hours</td>\n",
       "      <td>Healthy</td>\n",
       "      <td>MSc</td>\n",
       "      <td>No</td>\n",
       "      <td>0.0</td>\n",
       "      <td>3.0</td>\n",
       "      <td>Yes</td>\n",
       "      <td>0</td>\n",
       "    </tr>\n",
       "    <tr>\n",
       "      <th>27898</th>\n",
       "      <td>140689</td>\n",
       "      <td>Male</td>\n",
       "      <td>31.0</td>\n",
       "      <td>Faridabad</td>\n",
       "      <td>Student</td>\n",
       "      <td>3.0</td>\n",
       "      <td>0.0</td>\n",
       "      <td>6.61</td>\n",
       "      <td>4.0</td>\n",
       "      <td>0.0</td>\n",
       "      <td>5-6 hours</td>\n",
       "      <td>Unhealthy</td>\n",
       "      <td>MD</td>\n",
       "      <td>No</td>\n",
       "      <td>12.0</td>\n",
       "      <td>2.0</td>\n",
       "      <td>No</td>\n",
       "      <td>0</td>\n",
       "    </tr>\n",
       "    <tr>\n",
       "      <th>27899</th>\n",
       "      <td>140690</td>\n",
       "      <td>Female</td>\n",
       "      <td>18.0</td>\n",
       "      <td>Ludhiana</td>\n",
       "      <td>Student</td>\n",
       "      <td>5.0</td>\n",
       "      <td>0.0</td>\n",
       "      <td>6.88</td>\n",
       "      <td>2.0</td>\n",
       "      <td>0.0</td>\n",
       "      <td>Less than 5 hours</td>\n",
       "      <td>Healthy</td>\n",
       "      <td>Class 12</td>\n",
       "      <td>Yes</td>\n",
       "      <td>10.0</td>\n",
       "      <td>5.0</td>\n",
       "      <td>No</td>\n",
       "      <td>1</td>\n",
       "    </tr>\n",
       "    <tr>\n",
       "      <th>27900</th>\n",
       "      <td>140699</td>\n",
       "      <td>Male</td>\n",
       "      <td>27.0</td>\n",
       "      <td>Patna</td>\n",
       "      <td>Student</td>\n",
       "      <td>4.0</td>\n",
       "      <td>0.0</td>\n",
       "      <td>9.24</td>\n",
       "      <td>1.0</td>\n",
       "      <td>0.0</td>\n",
       "      <td>Less than 5 hours</td>\n",
       "      <td>Healthy</td>\n",
       "      <td>BCA</td>\n",
       "      <td>Yes</td>\n",
       "      <td>2.0</td>\n",
       "      <td>3.0</td>\n",
       "      <td>Yes</td>\n",
       "      <td>1</td>\n",
       "    </tr>\n",
       "  </tbody>\n",
       "</table>\n",
       "<p>27901 rows × 18 columns</p>\n",
       "</div>"
      ],
      "text/plain": [
       "           id  Gender   Age           City Profession  Academic Pressure  \\\n",
       "0           2    Male  33.0  Visakhapatnam    Student                5.0   \n",
       "1           8  Female  24.0      Bangalore    Student                2.0   \n",
       "2          26    Male  31.0       Srinagar    Student                3.0   \n",
       "3          30  Female  28.0       Varanasi    Student                3.0   \n",
       "4          32  Female  25.0         Jaipur    Student                4.0   \n",
       "...       ...     ...   ...            ...        ...                ...   \n",
       "27896  140685  Female  27.0          Surat    Student                5.0   \n",
       "27897  140686    Male  27.0       Ludhiana    Student                2.0   \n",
       "27898  140689    Male  31.0      Faridabad    Student                3.0   \n",
       "27899  140690  Female  18.0       Ludhiana    Student                5.0   \n",
       "27900  140699    Male  27.0          Patna    Student                4.0   \n",
       "\n",
       "       Work Pressure  CGPA  Study Satisfaction  Job Satisfaction  \\\n",
       "0                0.0  8.97                 2.0               0.0   \n",
       "1                0.0  5.90                 5.0               0.0   \n",
       "2                0.0  7.03                 5.0               0.0   \n",
       "3                0.0  5.59                 2.0               0.0   \n",
       "4                0.0  8.13                 3.0               0.0   \n",
       "...              ...   ...                 ...               ...   \n",
       "27896            0.0  5.75                 5.0               0.0   \n",
       "27897            0.0  9.40                 3.0               0.0   \n",
       "27898            0.0  6.61                 4.0               0.0   \n",
       "27899            0.0  6.88                 2.0               0.0   \n",
       "27900            0.0  9.24                 1.0               0.0   \n",
       "\n",
       "          Sleep Duration Dietary Habits    Degree  \\\n",
       "0              5-6 hours        Healthy   B.Pharm   \n",
       "1              5-6 hours       Moderate       BSc   \n",
       "2      Less than 5 hours        Healthy        BA   \n",
       "3              7-8 hours       Moderate       BCA   \n",
       "4              5-6 hours       Moderate    M.Tech   \n",
       "...                  ...            ...       ...   \n",
       "27896          5-6 hours      Unhealthy  Class 12   \n",
       "27897  Less than 5 hours        Healthy       MSc   \n",
       "27898          5-6 hours      Unhealthy        MD   \n",
       "27899  Less than 5 hours        Healthy  Class 12   \n",
       "27900  Less than 5 hours        Healthy       BCA   \n",
       "\n",
       "      Have you ever had suicidal thoughts ?  Work/Study Hours  \\\n",
       "0                                       Yes               3.0   \n",
       "1                                        No               3.0   \n",
       "2                                        No               9.0   \n",
       "3                                       Yes               4.0   \n",
       "4                                       Yes               1.0   \n",
       "...                                     ...               ...   \n",
       "27896                                   Yes               7.0   \n",
       "27897                                    No               0.0   \n",
       "27898                                    No              12.0   \n",
       "27899                                   Yes              10.0   \n",
       "27900                                   Yes               2.0   \n",
       "\n",
       "       Financial Stress Family History of Mental Illness  Depression  \n",
       "0                   1.0                               No           1  \n",
       "1                   2.0                              Yes           0  \n",
       "2                   1.0                              Yes           0  \n",
       "3                   5.0                              Yes           1  \n",
       "4                   1.0                               No           0  \n",
       "...                 ...                              ...         ...  \n",
       "27896               1.0                              Yes           0  \n",
       "27897               3.0                              Yes           0  \n",
       "27898               2.0                               No           0  \n",
       "27899               5.0                               No           1  \n",
       "27900               3.0                              Yes           1  \n",
       "\n",
       "[27901 rows x 18 columns]"
      ]
     },
     "execution_count": 316,
     "metadata": {},
     "output_type": "execute_result"
    }
   ],
   "source": [
    "student_depression_data"
   ]
  },
  {
   "cell_type": "code",
   "execution_count": 317,
   "id": "ddcf584e",
   "metadata": {},
   "outputs": [],
   "source": [
    "student_depression_data.columns = [to_snake_case(c) for c in student_depression_data.columns]"
   ]
  },
  {
   "cell_type": "markdown",
   "id": "1f288bf2",
   "metadata": {},
   "source": [
    "First thing we notice is that there is a column *id* which we need to check for uniqueness"
   ]
  },
  {
   "cell_type": "code",
   "execution_count": 318,
   "id": "3b6261d6",
   "metadata": {},
   "outputs": [
    {
     "data": {
      "text/plain": [
       "True"
      ]
     },
     "execution_count": 318,
     "metadata": {},
     "output_type": "execute_result"
    }
   ],
   "source": [
    "student_depression_data.id.nunique() == len(student_depression_data)"
   ]
  },
  {
   "cell_type": "markdown",
   "id": "4ced83b6",
   "metadata": {},
   "source": [
    "Since it has no repetitions we can safely remove the column"
   ]
  },
  {
   "cell_type": "code",
   "execution_count": 319,
   "id": "4c5f61eb",
   "metadata": {},
   "outputs": [],
   "source": [
    "student_depression_data = student_depression_data.drop(columns=[\"id\"])"
   ]
  },
  {
   "cell_type": "markdown",
   "id": "acd3e077",
   "metadata": {},
   "source": [
    "First thing we notice is that the dataset contains a column named Profession. However, that column includes Student as a value. We also have Work/Study Hours."
   ]
  },
  {
   "cell_type": "code",
   "execution_count": 320,
   "id": "d5c64cf4",
   "metadata": {},
   "outputs": [
    {
     "data": {
      "text/plain": [
       "profession\n",
       "Student                   27870\n",
       "Architect                     8\n",
       "Teacher                       6\n",
       "Digital Marketer              3\n",
       "Chef                          2\n",
       "Content Writer                2\n",
       "Pharmacist                    2\n",
       "Doctor                        2\n",
       "UX/UI Designer                1\n",
       "Civil Engineer                1\n",
       "Manager                       1\n",
       "Educational Consultant        1\n",
       "Lawyer                        1\n",
       "Entrepreneur                  1\n",
       "Name: count, dtype: int64"
      ]
     },
     "execution_count": 320,
     "metadata": {},
     "output_type": "execute_result"
    }
   ],
   "source": [
    "profession_stats = student_depression_data.profession.value_counts()\n",
    "profession_stats.columns = [\"Profession\", \"Count\"]\n",
    "profession_stats"
   ]
  },
  {
   "cell_type": "markdown",
   "id": "e07aacb0",
   "metadata": {},
   "source": [
    "The bar chart says it all :)"
   ]
  },
  {
   "cell_type": "code",
   "execution_count": 321,
   "id": "4d36355a",
   "metadata": {},
   "outputs": [
    {
     "data": {
      "image/png": "[encoded data removed]",
      "text/plain": [
       "<Figure size 640x480 with 1 Axes>"
      ]
     },
     "metadata": {},
     "output_type": "display_data"
    }
   ],
   "source": [
    "profession_stats = student_depression_data['profession'].value_counts(ascending=True)\n",
    "\n",
    "professions = profession_stats.index\n",
    "counts = profession_stats.values\n",
    "\n",
    "# Horizontal bar chart so that profession names are fully visible\n",
    "plt.barh(professions, counts)\n",
    "plt.title(\"Students by Profession\")\n",
    "plt.xlabel(\"Stundets Count\")\n",
    "plt.ylabel(\"Profession\")\n",
    "\n",
    "plt.show()"
   ]
  },
  {
   "cell_type": "markdown",
   "id": "aa6d53a0",
   "metadata": {},
   "source": [
    "As the name of the dataset suggests, it is about student. Data also shows it by having too little of the ramaining values. That is why I am going to assume that any other profession is not usable for any hypothesis and any row that is not a student will be considered to be an outlier and therefore be removed."
   ]
  },
  {
   "cell_type": "code",
   "execution_count": 322,
   "id": "8c32deca",
   "metadata": {},
   "outputs": [],
   "source": [
    "student_depression_data = student_depression_data[student_depression_data.profession == \"Student\"]"
   ]
  },
  {
   "cell_type": "markdown",
   "id": "3b2fa744",
   "metadata": {},
   "source": [
    "Let's not forget to rename the Work/Study Hours (that now is work_study_hours) since it would not make sense otherwise"
   ]
  },
  {
   "cell_type": "code",
   "execution_count": 323,
   "id": "7a49e02f",
   "metadata": {},
   "outputs": [],
   "source": [
    "student_depression_data = student_depression_data.rename(columns={\"work_study_hours\": \"study_hours\"})"
   ]
  },
  {
   "cell_type": "markdown",
   "id": "afa965df",
   "metadata": {},
   "source": [
    "We can also see that there are very few students that have a value for the column Job Satisfaction. However, the profession is Student. These students could either be studying and working or only studying but since the value in the previously named column Work/Job Hours was in one place, I will assume that this data is redundant and could be deleted."
   ]
  },
  {
   "cell_type": "code",
   "execution_count": 324,
   "id": "701332d7",
   "metadata": {},
   "outputs": [
    {
     "data": {
      "text/plain": [
       "job_satisfaction\n",
       "0.0    27862\n",
       "2.0        3\n",
       "4.0        2\n",
       "1.0        2\n",
       "3.0        1\n",
       "Name: count, dtype: int64"
      ]
     },
     "execution_count": 324,
     "metadata": {},
     "output_type": "execute_result"
    }
   ],
   "source": [
    "student_depression_data.job_satisfaction.value_counts()"
   ]
  },
  {
   "cell_type": "code",
   "execution_count": 325,
   "id": "8633e62d",
   "metadata": {},
   "outputs": [],
   "source": [
    "student_depression_data = student_depression_data[student_depression_data.job_satisfaction == 0]\n",
    "student_depression_data = student_depression_data.drop(columns=[\"job_satisfaction\"])"
   ]
  },
  {
   "cell_type": "markdown",
   "id": "439a5f4e",
   "metadata": {},
   "source": [
    "Here we can see that there are diferent values for Work Pressure and since we already decided to test only for students that are not employed, I am going to drop those that are equal to 0"
   ]
  },
  {
   "cell_type": "code",
   "execution_count": 326,
   "id": "a60b30ef",
   "metadata": {},
   "outputs": [
    {
     "data": {
      "text/plain": [
       "work_pressure\n",
       "0.0    27862\n",
       "Name: count, dtype: int64"
      ]
     },
     "execution_count": 326,
     "metadata": {},
     "output_type": "execute_result"
    }
   ],
   "source": [
    "student_depression_data.work_pressure.value_counts()"
   ]
  },
  {
   "cell_type": "code",
   "execution_count": 327,
   "id": "fb1a1a88",
   "metadata": {},
   "outputs": [],
   "source": [
    "student_depression_data = student_depression_data.drop(columns=[\"work_pressure\"])"
   ]
  },
  {
   "cell_type": "markdown",
   "id": "11af6fb3",
   "metadata": {},
   "source": [
    "Since we removed all records where the Profession column has a value diferrent than Student we can remove the whole column since it does not bring any new knowledge"
   ]
  },
  {
   "cell_type": "code",
   "execution_count": 328,
   "id": "4de66fbf",
   "metadata": {},
   "outputs": [],
   "source": [
    "student_depression_data = student_depression_data.drop(columns=[\"profession\"])"
   ]
  },
  {
   "cell_type": "markdown",
   "id": "8060d029",
   "metadata": {},
   "source": [
    "Now in order to be more consistent I will translate the values of the folowing columns to 0 and 1 instead of Yes or No:\n",
    "\n",
    "Have you ever had suicidal thoughts ?\n",
    "Family History of Mental Illness\n",
    "\n",
    "And the gender column to:\n",
    "\n",
    "Male = 0 and Female = 1\n",
    "\n",
    "But let's first see if there are values that are not Yes or No and Male or Female.\n",
    "\n",
    "I encode male and female as 0 and 1 because there aren't other values and I assume such won't be added"
   ]
  },
  {
   "cell_type": "code",
   "execution_count": 329,
   "id": "c2e8dc10",
   "metadata": {},
   "outputs": [],
   "source": [
    "binary_encode(student_depression_data, \"have_you_ever_had_suicidal_thoughts\")\n",
    "binary_encode(student_depression_data, \"family_history_of_mental_illness\")\n",
    "binary_encode(student_depression_data, \"gender\", \"Male\", \"Female\")"
   ]
  },
  {
   "cell_type": "markdown",
   "id": "3325a710",
   "metadata": {},
   "source": [
    "We have some ordinary categorical values that must be converted to numerical\n",
    "\n",
    "I've picked *sleep_duration* and *dietary_habits* because both can be ordered incrementally."
   ]
  },
  {
   "cell_type": "markdown",
   "id": "ba27281c",
   "metadata": {},
   "source": [
    "Let's begin with *dietary_habits*.\n",
    "\n",
    "First we need to see all possible values and order them incrementally."
   ]
  },
  {
   "cell_type": "code",
   "execution_count": 330,
   "id": "0a3d23c4",
   "metadata": {},
   "outputs": [
    {
     "data": {
      "text/plain": [
       "array(['Healthy', 'Moderate', 'Unhealthy', 'Others'], dtype=object)"
      ]
     },
     "execution_count": 330,
     "metadata": {},
     "output_type": "execute_result"
    }
   ],
   "source": [
    "student_depression_data.dietary_habits.unique()"
   ]
  },
  {
   "cell_type": "markdown",
   "id": "9257526d",
   "metadata": {},
   "source": [
    "As we can see, we have four unique values. It is easy to order them like this: [Healthy, Moderate, Unhealthy] in somewhat of a descending order. I choose this order because of the semantics of the dataset. Because the dataset is about depression, it is logical *Healhy* to be the lowest."
   ]
  },
  {
   "cell_type": "markdown",
   "id": "87fe6229",
   "metadata": {},
   "source": [
    "However, there is a slight problem. There is also a *Others* value. What should we do with it?"
   ]
  },
  {
   "cell_type": "code",
   "execution_count": 331,
   "id": "9aedb1fe",
   "metadata": {},
   "outputs": [
    {
     "data": {
      "text/plain": [
       "dietary_habits\n",
       "Unhealthy    10307\n",
       "Moderate      9905\n",
       "Healthy       7638\n",
       "Others          12\n",
       "Name: count, dtype: int64"
      ]
     },
     "execution_count": 331,
     "metadata": {},
     "output_type": "execute_result"
    }
   ],
   "source": [
    "student_depression_data.dietary_habits.value_counts()"
   ]
  },
  {
   "cell_type": "code",
   "execution_count": 332,
   "id": "09e92e9b",
   "metadata": {},
   "outputs": [
    {
     "data": {
      "image/png": "[encoded data removed]",
      "text/plain": [
       "<Figure size 640x480 with 1 Axes>"
      ]
     },
     "metadata": {},
     "output_type": "display_data"
    }
   ],
   "source": [
    "plot_category_counts(student_depression_data, \"dietary_habits\", title=\"Students by Dietary Habits\", xlabel=\"Dietary Habits\")"
   ]
  },
  {
   "cell_type": "markdown",
   "id": "c1e61380",
   "metadata": {},
   "source": [
    "As we can see the case with the value *Others* is similar to the *profession* column we removed. It brings little to no entropy and we can just remove those values."
   ]
  },
  {
   "cell_type": "code",
   "execution_count": 333,
   "id": "900eb19e",
   "metadata": {},
   "outputs": [],
   "source": [
    "student_depression_data = student_depression_data[student_depression_data.dietary_habits != \"Others\"]"
   ]
  },
  {
   "cell_type": "markdown",
   "id": "0c8300fb",
   "metadata": {},
   "source": [
    "And we can finally convert the ordinal values to numerical using the *ordinal_encode* function."
   ]
  },
  {
   "cell_type": "code",
   "execution_count": 335,
   "id": "06466472",
   "metadata": {},
   "outputs": [
    {
     "data": {
      "text/plain": [
       "array(['5-6 hours', 'Less than 5 hours', '7-8 hours', 'More than 8 hours',\n",
       "       'Others'], dtype=object)"
      ]
     },
     "execution_count": 335,
     "metadata": {},
     "output_type": "execute_result"
    }
   ],
   "source": [
    "student_depression_data.sleep_duration.unique()"
   ]
  },
  {
   "cell_type": "code",
   "execution_count": 336,
   "id": "bff07ba4",
   "metadata": {},
   "outputs": [
    {
     "data": {
      "image/png": "[encoded data removed]",
      "text/plain": [
       "<Figure size 640x480 with 1 Axes>"
      ]
     },
     "metadata": {},
     "output_type": "display_data"
    }
   ],
   "source": [
    "plot_category_counts(student_depression_data, \"sleep_duration\", title=\"Students by Sleep Duration\", xlabel=\"Sleep Duration\")"
   ]
  },
  {
   "cell_type": "markdown",
   "id": "f6977db4",
   "metadata": {},
   "source": [
    "As we can see the situation of *sleep_duration* is similar to that of *dietary_habits* so we can again delete rows where the value is *Others*"
   ]
  },
  {
   "cell_type": "code",
   "execution_count": 337,
   "id": "ce4d2708",
   "metadata": {},
   "outputs": [],
   "source": [
    "student_depression_data = student_depression_data[student_depression_data.sleep_duration != \"Others\"]"
   ]
  },
  {
   "cell_type": "code",
   "execution_count": 338,
   "id": "d349cf10",
   "metadata": {},
   "outputs": [],
   "source": [
    "ordinal_encode(student_depression_data, \"dietary_habits\", [\"Healthy\", \"Moderate\", \"Unhealthy\"])\n",
    "ordinal_encode(student_depression_data, \"sleep_duration\", [\"More than 8 hours\", \"7-8 hours\", \"5-6 hours\", \"Less than 5 hours\"])"
   ]
  },
  {
   "cell_type": "markdown",
   "id": "91244782",
   "metadata": {},
   "source": [
    "Finally, let's check if there are other than 1 and 0 in the depression column"
   ]
  },
  {
   "cell_type": "code",
   "execution_count": 339,
   "id": "c16593d3",
   "metadata": {},
   "outputs": [
    {
     "data": {
      "text/plain": [
       "depression\n",
       "1    16287\n",
       "0    11545\n",
       "Name: count, dtype: int64"
      ]
     },
     "execution_count": 339,
     "metadata": {},
     "output_type": "execute_result"
    }
   ],
   "source": [
    "student_depression_data.depression.value_counts()"
   ]
  },
  {
   "cell_type": "markdown",
   "id": "346fec7c",
   "metadata": {},
   "source": [
    "This is what the dataset looks after the cleanup"
   ]
  },
  {
   "cell_type": "code",
   "execution_count": 340,
   "id": "f687a78c",
   "metadata": {},
   "outputs": [
    {
     "data": {
      "text/html": [
       "<div>\n",
       "<style scoped>\n",
       "    .dataframe tbody tr th:only-of-type {\n",
       "        vertical-align: middle;\n",
       "    }\n",
       "\n",
       "    .dataframe tbody tr th {\n",
       "        vertical-align: top;\n",
       "    }\n",
       "\n",
       "    .dataframe thead th {\n",
       "        text-align: right;\n",
       "    }\n",
       "</style>\n",
       "<table border=\"1\" class=\"dataframe\">\n",
       "  <thead>\n",
       "    <tr style=\"text-align: right;\">\n",
       "      <th></th>\n",
       "      <th>gender</th>\n",
       "      <th>age</th>\n",
       "      <th>city</th>\n",
       "      <th>academic_pressure</th>\n",
       "      <th>cgpa</th>\n",
       "      <th>study_satisfaction</th>\n",
       "      <th>sleep_duration</th>\n",
       "      <th>dietary_habits</th>\n",
       "      <th>degree</th>\n",
       "      <th>have_you_ever_had_suicidal_thoughts</th>\n",
       "      <th>study_hours</th>\n",
       "      <th>financial_stress</th>\n",
       "      <th>family_history_of_mental_illness</th>\n",
       "      <th>depression</th>\n",
       "    </tr>\n",
       "  </thead>\n",
       "  <tbody>\n",
       "    <tr>\n",
       "      <th>0</th>\n",
       "      <td>1</td>\n",
       "      <td>33.0</td>\n",
       "      <td>Visakhapatnam</td>\n",
       "      <td>5.0</td>\n",
       "      <td>8.97</td>\n",
       "      <td>2.0</td>\n",
       "      <td>2.0</td>\n",
       "      <td>0.0</td>\n",
       "      <td>B.Pharm</td>\n",
       "      <td>1</td>\n",
       "      <td>3.0</td>\n",
       "      <td>1.0</td>\n",
       "      <td>0</td>\n",
       "      <td>1</td>\n",
       "    </tr>\n",
       "    <tr>\n",
       "      <th>1</th>\n",
       "      <td>0</td>\n",
       "      <td>24.0</td>\n",
       "      <td>Bangalore</td>\n",
       "      <td>2.0</td>\n",
       "      <td>5.90</td>\n",
       "      <td>5.0</td>\n",
       "      <td>2.0</td>\n",
       "      <td>1.0</td>\n",
       "      <td>BSc</td>\n",
       "      <td>0</td>\n",
       "      <td>3.0</td>\n",
       "      <td>2.0</td>\n",
       "      <td>1</td>\n",
       "      <td>0</td>\n",
       "    </tr>\n",
       "    <tr>\n",
       "      <th>2</th>\n",
       "      <td>1</td>\n",
       "      <td>31.0</td>\n",
       "      <td>Srinagar</td>\n",
       "      <td>3.0</td>\n",
       "      <td>7.03</td>\n",
       "      <td>5.0</td>\n",
       "      <td>3.0</td>\n",
       "      <td>0.0</td>\n",
       "      <td>BA</td>\n",
       "      <td>0</td>\n",
       "      <td>9.0</td>\n",
       "      <td>1.0</td>\n",
       "      <td>1</td>\n",
       "      <td>0</td>\n",
       "    </tr>\n",
       "    <tr>\n",
       "      <th>3</th>\n",
       "      <td>0</td>\n",
       "      <td>28.0</td>\n",
       "      <td>Varanasi</td>\n",
       "      <td>3.0</td>\n",
       "      <td>5.59</td>\n",
       "      <td>2.0</td>\n",
       "      <td>1.0</td>\n",
       "      <td>1.0</td>\n",
       "      <td>BCA</td>\n",
       "      <td>1</td>\n",
       "      <td>4.0</td>\n",
       "      <td>5.0</td>\n",
       "      <td>1</td>\n",
       "      <td>1</td>\n",
       "    </tr>\n",
       "    <tr>\n",
       "      <th>4</th>\n",
       "      <td>0</td>\n",
       "      <td>25.0</td>\n",
       "      <td>Jaipur</td>\n",
       "      <td>4.0</td>\n",
       "      <td>8.13</td>\n",
       "      <td>3.0</td>\n",
       "      <td>2.0</td>\n",
       "      <td>1.0</td>\n",
       "      <td>M.Tech</td>\n",
       "      <td>1</td>\n",
       "      <td>1.0</td>\n",
       "      <td>1.0</td>\n",
       "      <td>0</td>\n",
       "      <td>0</td>\n",
       "    </tr>\n",
       "    <tr>\n",
       "      <th>...</th>\n",
       "      <td>...</td>\n",
       "      <td>...</td>\n",
       "      <td>...</td>\n",
       "      <td>...</td>\n",
       "      <td>...</td>\n",
       "      <td>...</td>\n",
       "      <td>...</td>\n",
       "      <td>...</td>\n",
       "      <td>...</td>\n",
       "      <td>...</td>\n",
       "      <td>...</td>\n",
       "      <td>...</td>\n",
       "      <td>...</td>\n",
       "      <td>...</td>\n",
       "    </tr>\n",
       "    <tr>\n",
       "      <th>27896</th>\n",
       "      <td>0</td>\n",
       "      <td>27.0</td>\n",
       "      <td>Surat</td>\n",
       "      <td>5.0</td>\n",
       "      <td>5.75</td>\n",
       "      <td>5.0</td>\n",
       "      <td>2.0</td>\n",
       "      <td>2.0</td>\n",
       "      <td>Class 12</td>\n",
       "      <td>1</td>\n",
       "      <td>7.0</td>\n",
       "      <td>1.0</td>\n",
       "      <td>1</td>\n",
       "      <td>0</td>\n",
       "    </tr>\n",
       "    <tr>\n",
       "      <th>27897</th>\n",
       "      <td>1</td>\n",
       "      <td>27.0</td>\n",
       "      <td>Ludhiana</td>\n",
       "      <td>2.0</td>\n",
       "      <td>9.40</td>\n",
       "      <td>3.0</td>\n",
       "      <td>3.0</td>\n",
       "      <td>0.0</td>\n",
       "      <td>MSc</td>\n",
       "      <td>0</td>\n",
       "      <td>0.0</td>\n",
       "      <td>3.0</td>\n",
       "      <td>1</td>\n",
       "      <td>0</td>\n",
       "    </tr>\n",
       "    <tr>\n",
       "      <th>27898</th>\n",
       "      <td>1</td>\n",
       "      <td>31.0</td>\n",
       "      <td>Faridabad</td>\n",
       "      <td>3.0</td>\n",
       "      <td>6.61</td>\n",
       "      <td>4.0</td>\n",
       "      <td>2.0</td>\n",
       "      <td>2.0</td>\n",
       "      <td>MD</td>\n",
       "      <td>0</td>\n",
       "      <td>12.0</td>\n",
       "      <td>2.0</td>\n",
       "      <td>0</td>\n",
       "      <td>0</td>\n",
       "    </tr>\n",
       "    <tr>\n",
       "      <th>27899</th>\n",
       "      <td>0</td>\n",
       "      <td>18.0</td>\n",
       "      <td>Ludhiana</td>\n",
       "      <td>5.0</td>\n",
       "      <td>6.88</td>\n",
       "      <td>2.0</td>\n",
       "      <td>3.0</td>\n",
       "      <td>0.0</td>\n",
       "      <td>Class 12</td>\n",
       "      <td>1</td>\n",
       "      <td>10.0</td>\n",
       "      <td>5.0</td>\n",
       "      <td>0</td>\n",
       "      <td>1</td>\n",
       "    </tr>\n",
       "    <tr>\n",
       "      <th>27900</th>\n",
       "      <td>1</td>\n",
       "      <td>27.0</td>\n",
       "      <td>Patna</td>\n",
       "      <td>4.0</td>\n",
       "      <td>9.24</td>\n",
       "      <td>1.0</td>\n",
       "      <td>3.0</td>\n",
       "      <td>0.0</td>\n",
       "      <td>BCA</td>\n",
       "      <td>1</td>\n",
       "      <td>2.0</td>\n",
       "      <td>3.0</td>\n",
       "      <td>1</td>\n",
       "      <td>1</td>\n",
       "    </tr>\n",
       "  </tbody>\n",
       "</table>\n",
       "<p>27832 rows × 14 columns</p>\n",
       "</div>"
      ],
      "text/plain": [
       "       gender   age           city  academic_pressure  cgpa  \\\n",
       "0           1  33.0  Visakhapatnam                5.0  8.97   \n",
       "1           0  24.0      Bangalore                2.0  5.90   \n",
       "2           1  31.0       Srinagar                3.0  7.03   \n",
       "3           0  28.0       Varanasi                3.0  5.59   \n",
       "4           0  25.0         Jaipur                4.0  8.13   \n",
       "...       ...   ...            ...                ...   ...   \n",
       "27896       0  27.0          Surat                5.0  5.75   \n",
       "27897       1  27.0       Ludhiana                2.0  9.40   \n",
       "27898       1  31.0      Faridabad                3.0  6.61   \n",
       "27899       0  18.0       Ludhiana                5.0  6.88   \n",
       "27900       1  27.0          Patna                4.0  9.24   \n",
       "\n",
       "       study_satisfaction  sleep_duration  dietary_habits    degree  \\\n",
       "0                     2.0             2.0             0.0   B.Pharm   \n",
       "1                     5.0             2.0             1.0       BSc   \n",
       "2                     5.0             3.0             0.0        BA   \n",
       "3                     2.0             1.0             1.0       BCA   \n",
       "4                     3.0             2.0             1.0    M.Tech   \n",
       "...                   ...             ...             ...       ...   \n",
       "27896                 5.0             2.0             2.0  Class 12   \n",
       "27897                 3.0             3.0             0.0       MSc   \n",
       "27898                 4.0             2.0             2.0        MD   \n",
       "27899                 2.0             3.0             0.0  Class 12   \n",
       "27900                 1.0             3.0             0.0       BCA   \n",
       "\n",
       "       have_you_ever_had_suicidal_thoughts  study_hours  financial_stress  \\\n",
       "0                                        1          3.0               1.0   \n",
       "1                                        0          3.0               2.0   \n",
       "2                                        0          9.0               1.0   \n",
       "3                                        1          4.0               5.0   \n",
       "4                                        1          1.0               1.0   \n",
       "...                                    ...          ...               ...   \n",
       "27896                                    1          7.0               1.0   \n",
       "27897                                    0          0.0               3.0   \n",
       "27898                                    0         12.0               2.0   \n",
       "27899                                    1         10.0               5.0   \n",
       "27900                                    1          2.0               3.0   \n",
       "\n",
       "       family_history_of_mental_illness  depression  \n",
       "0                                     0           1  \n",
       "1                                     1           0  \n",
       "2                                     1           0  \n",
       "3                                     1           1  \n",
       "4                                     0           0  \n",
       "...                                 ...         ...  \n",
       "27896                                 1           0  \n",
       "27897                                 1           0  \n",
       "27898                                 0           0  \n",
       "27899                                 0           1  \n",
       "27900                                 1           1  \n",
       "\n",
       "[27832 rows x 14 columns]"
      ]
     },
     "execution_count": 340,
     "metadata": {},
     "output_type": "execute_result"
    }
   ],
   "source": [
    "student_depression_data"
   ]
  },
  {
   "cell_type": "markdown",
   "id": "9a0fe5c4",
   "metadata": {},
   "source": [
    "The dataset looks good. Let's now proceed with the second dataset about depression."
   ]
  },
  {
   "cell_type": "markdown",
   "id": "9eec92e3",
   "metadata": {},
   "source": [
    "### Enhanced Anxiety"
   ]
  },
  {
   "cell_type": "code",
   "execution_count": 341,
   "id": "c9818fb4",
   "metadata": {},
   "outputs": [],
   "source": [
    "enhanced_anxiety_data = pd.read_csv('data/enhanced_anxiety_dataset.csv')"
   ]
  },
  {
   "cell_type": "code",
   "execution_count": 342,
   "id": "5f3f2173",
   "metadata": {},
   "outputs": [
    {
     "data": {
      "text/html": [
       "<div>\n",
       "<style scoped>\n",
       "    .dataframe tbody tr th:only-of-type {\n",
       "        vertical-align: middle;\n",
       "    }\n",
       "\n",
       "    .dataframe tbody tr th {\n",
       "        vertical-align: top;\n",
       "    }\n",
       "\n",
       "    .dataframe thead th {\n",
       "        text-align: right;\n",
       "    }\n",
       "</style>\n",
       "<table border=\"1\" class=\"dataframe\">\n",
       "  <thead>\n",
       "    <tr style=\"text-align: right;\">\n",
       "      <th></th>\n",
       "      <th>Age</th>\n",
       "      <th>Gender</th>\n",
       "      <th>Occupation</th>\n",
       "      <th>Sleep Hours</th>\n",
       "      <th>Physical Activity (hrs/week)</th>\n",
       "      <th>Caffeine Intake (mg/day)</th>\n",
       "      <th>Alcohol Consumption (drinks/week)</th>\n",
       "      <th>Smoking</th>\n",
       "      <th>Family History of Anxiety</th>\n",
       "      <th>Stress Level (1-10)</th>\n",
       "      <th>Heart Rate (bpm)</th>\n",
       "      <th>Breathing Rate (breaths/min)</th>\n",
       "      <th>Sweating Level (1-5)</th>\n",
       "      <th>Dizziness</th>\n",
       "      <th>Medication</th>\n",
       "      <th>Therapy Sessions (per month)</th>\n",
       "      <th>Recent Major Life Event</th>\n",
       "      <th>Diet Quality (1-10)</th>\n",
       "      <th>Anxiety Level (1-10)</th>\n",
       "    </tr>\n",
       "  </thead>\n",
       "  <tbody>\n",
       "    <tr>\n",
       "      <th>0</th>\n",
       "      <td>29</td>\n",
       "      <td>Female</td>\n",
       "      <td>Artist</td>\n",
       "      <td>6.0</td>\n",
       "      <td>2.7</td>\n",
       "      <td>181</td>\n",
       "      <td>10</td>\n",
       "      <td>Yes</td>\n",
       "      <td>No</td>\n",
       "      <td>10</td>\n",
       "      <td>114</td>\n",
       "      <td>14</td>\n",
       "      <td>4</td>\n",
       "      <td>No</td>\n",
       "      <td>Yes</td>\n",
       "      <td>3</td>\n",
       "      <td>Yes</td>\n",
       "      <td>7</td>\n",
       "      <td>5.0</td>\n",
       "    </tr>\n",
       "    <tr>\n",
       "      <th>1</th>\n",
       "      <td>46</td>\n",
       "      <td>Other</td>\n",
       "      <td>Nurse</td>\n",
       "      <td>6.2</td>\n",
       "      <td>5.7</td>\n",
       "      <td>200</td>\n",
       "      <td>8</td>\n",
       "      <td>Yes</td>\n",
       "      <td>Yes</td>\n",
       "      <td>1</td>\n",
       "      <td>62</td>\n",
       "      <td>23</td>\n",
       "      <td>2</td>\n",
       "      <td>Yes</td>\n",
       "      <td>No</td>\n",
       "      <td>2</td>\n",
       "      <td>No</td>\n",
       "      <td>8</td>\n",
       "      <td>3.0</td>\n",
       "    </tr>\n",
       "    <tr>\n",
       "      <th>2</th>\n",
       "      <td>64</td>\n",
       "      <td>Male</td>\n",
       "      <td>Other</td>\n",
       "      <td>5.0</td>\n",
       "      <td>3.7</td>\n",
       "      <td>117</td>\n",
       "      <td>4</td>\n",
       "      <td>No</td>\n",
       "      <td>Yes</td>\n",
       "      <td>1</td>\n",
       "      <td>91</td>\n",
       "      <td>28</td>\n",
       "      <td>3</td>\n",
       "      <td>No</td>\n",
       "      <td>No</td>\n",
       "      <td>1</td>\n",
       "      <td>Yes</td>\n",
       "      <td>1</td>\n",
       "      <td>1.0</td>\n",
       "    </tr>\n",
       "    <tr>\n",
       "      <th>3</th>\n",
       "      <td>20</td>\n",
       "      <td>Female</td>\n",
       "      <td>Scientist</td>\n",
       "      <td>5.8</td>\n",
       "      <td>2.8</td>\n",
       "      <td>360</td>\n",
       "      <td>6</td>\n",
       "      <td>Yes</td>\n",
       "      <td>No</td>\n",
       "      <td>4</td>\n",
       "      <td>86</td>\n",
       "      <td>17</td>\n",
       "      <td>3</td>\n",
       "      <td>No</td>\n",
       "      <td>No</td>\n",
       "      <td>0</td>\n",
       "      <td>No</td>\n",
       "      <td>1</td>\n",
       "      <td>2.0</td>\n",
       "    </tr>\n",
       "    <tr>\n",
       "      <th>4</th>\n",
       "      <td>49</td>\n",
       "      <td>Female</td>\n",
       "      <td>Other</td>\n",
       "      <td>8.2</td>\n",
       "      <td>2.3</td>\n",
       "      <td>247</td>\n",
       "      <td>4</td>\n",
       "      <td>Yes</td>\n",
       "      <td>No</td>\n",
       "      <td>1</td>\n",
       "      <td>98</td>\n",
       "      <td>19</td>\n",
       "      <td>4</td>\n",
       "      <td>Yes</td>\n",
       "      <td>Yes</td>\n",
       "      <td>1</td>\n",
       "      <td>No</td>\n",
       "      <td>3</td>\n",
       "      <td>1.0</td>\n",
       "    </tr>\n",
       "    <tr>\n",
       "      <th>...</th>\n",
       "      <td>...</td>\n",
       "      <td>...</td>\n",
       "      <td>...</td>\n",
       "      <td>...</td>\n",
       "      <td>...</td>\n",
       "      <td>...</td>\n",
       "      <td>...</td>\n",
       "      <td>...</td>\n",
       "      <td>...</td>\n",
       "      <td>...</td>\n",
       "      <td>...</td>\n",
       "      <td>...</td>\n",
       "      <td>...</td>\n",
       "      <td>...</td>\n",
       "      <td>...</td>\n",
       "      <td>...</td>\n",
       "      <td>...</td>\n",
       "      <td>...</td>\n",
       "      <td>...</td>\n",
       "    </tr>\n",
       "    <tr>\n",
       "      <th>10995</th>\n",
       "      <td>23</td>\n",
       "      <td>Female</td>\n",
       "      <td>Engineer</td>\n",
       "      <td>6.1</td>\n",
       "      <td>3.1</td>\n",
       "      <td>566</td>\n",
       "      <td>9</td>\n",
       "      <td>Yes</td>\n",
       "      <td>No</td>\n",
       "      <td>8</td>\n",
       "      <td>91</td>\n",
       "      <td>28</td>\n",
       "      <td>1</td>\n",
       "      <td>Yes</td>\n",
       "      <td>Yes</td>\n",
       "      <td>1</td>\n",
       "      <td>No</td>\n",
       "      <td>3</td>\n",
       "      <td>6.0</td>\n",
       "    </tr>\n",
       "    <tr>\n",
       "      <th>10996</th>\n",
       "      <td>50</td>\n",
       "      <td>Other</td>\n",
       "      <td>Teacher</td>\n",
       "      <td>6.6</td>\n",
       "      <td>3.6</td>\n",
       "      <td>64</td>\n",
       "      <td>17</td>\n",
       "      <td>Yes</td>\n",
       "      <td>No</td>\n",
       "      <td>7</td>\n",
       "      <td>95</td>\n",
       "      <td>17</td>\n",
       "      <td>3</td>\n",
       "      <td>No</td>\n",
       "      <td>No</td>\n",
       "      <td>2</td>\n",
       "      <td>No</td>\n",
       "      <td>7</td>\n",
       "      <td>3.0</td>\n",
       "    </tr>\n",
       "    <tr>\n",
       "      <th>10997</th>\n",
       "      <td>29</td>\n",
       "      <td>Male</td>\n",
       "      <td>Nurse</td>\n",
       "      <td>6.7</td>\n",
       "      <td>6.9</td>\n",
       "      <td>159</td>\n",
       "      <td>14</td>\n",
       "      <td>No</td>\n",
       "      <td>No</td>\n",
       "      <td>8</td>\n",
       "      <td>72</td>\n",
       "      <td>16</td>\n",
       "      <td>1</td>\n",
       "      <td>Yes</td>\n",
       "      <td>Yes</td>\n",
       "      <td>2</td>\n",
       "      <td>Yes</td>\n",
       "      <td>7</td>\n",
       "      <td>4.0</td>\n",
       "    </tr>\n",
       "    <tr>\n",
       "      <th>10998</th>\n",
       "      <td>53</td>\n",
       "      <td>Other</td>\n",
       "      <td>Artist</td>\n",
       "      <td>5.7</td>\n",
       "      <td>2.7</td>\n",
       "      <td>248</td>\n",
       "      <td>8</td>\n",
       "      <td>No</td>\n",
       "      <td>No</td>\n",
       "      <td>4</td>\n",
       "      <td>112</td>\n",
       "      <td>28</td>\n",
       "      <td>3</td>\n",
       "      <td>Yes</td>\n",
       "      <td>Yes</td>\n",
       "      <td>1</td>\n",
       "      <td>Yes</td>\n",
       "      <td>2</td>\n",
       "      <td>4.0</td>\n",
       "    </tr>\n",
       "    <tr>\n",
       "      <th>10999</th>\n",
       "      <td>56</td>\n",
       "      <td>Other</td>\n",
       "      <td>Teacher</td>\n",
       "      <td>6.1</td>\n",
       "      <td>1.1</td>\n",
       "      <td>205</td>\n",
       "      <td>11</td>\n",
       "      <td>No</td>\n",
       "      <td>No</td>\n",
       "      <td>1</td>\n",
       "      <td>66</td>\n",
       "      <td>13</td>\n",
       "      <td>3</td>\n",
       "      <td>No</td>\n",
       "      <td>No</td>\n",
       "      <td>2</td>\n",
       "      <td>Yes</td>\n",
       "      <td>8</td>\n",
       "      <td>2.0</td>\n",
       "    </tr>\n",
       "  </tbody>\n",
       "</table>\n",
       "<p>11000 rows × 19 columns</p>\n",
       "</div>"
      ],
      "text/plain": [
       "       Age  Gender Occupation  Sleep Hours  Physical Activity (hrs/week)  \\\n",
       "0       29  Female     Artist          6.0                           2.7   \n",
       "1       46   Other      Nurse          6.2                           5.7   \n",
       "2       64    Male      Other          5.0                           3.7   \n",
       "3       20  Female  Scientist          5.8                           2.8   \n",
       "4       49  Female      Other          8.2                           2.3   \n",
       "...    ...     ...        ...          ...                           ...   \n",
       "10995   23  Female   Engineer          6.1                           3.1   \n",
       "10996   50   Other    Teacher          6.6                           3.6   \n",
       "10997   29    Male      Nurse          6.7                           6.9   \n",
       "10998   53   Other     Artist          5.7                           2.7   \n",
       "10999   56   Other    Teacher          6.1                           1.1   \n",
       "\n",
       "       Caffeine Intake (mg/day)  Alcohol Consumption (drinks/week) Smoking  \\\n",
       "0                           181                                 10     Yes   \n",
       "1                           200                                  8     Yes   \n",
       "2                           117                                  4      No   \n",
       "3                           360                                  6     Yes   \n",
       "4                           247                                  4     Yes   \n",
       "...                         ...                                ...     ...   \n",
       "10995                       566                                  9     Yes   \n",
       "10996                        64                                 17     Yes   \n",
       "10997                       159                                 14      No   \n",
       "10998                       248                                  8      No   \n",
       "10999                       205                                 11      No   \n",
       "\n",
       "      Family History of Anxiety  Stress Level (1-10)  Heart Rate (bpm)  \\\n",
       "0                            No                   10               114   \n",
       "1                           Yes                    1                62   \n",
       "2                           Yes                    1                91   \n",
       "3                            No                    4                86   \n",
       "4                            No                    1                98   \n",
       "...                         ...                  ...               ...   \n",
       "10995                        No                    8                91   \n",
       "10996                        No                    7                95   \n",
       "10997                        No                    8                72   \n",
       "10998                        No                    4               112   \n",
       "10999                        No                    1                66   \n",
       "\n",
       "       Breathing Rate (breaths/min)  Sweating Level (1-5) Dizziness  \\\n",
       "0                                14                     4        No   \n",
       "1                                23                     2       Yes   \n",
       "2                                28                     3        No   \n",
       "3                                17                     3        No   \n",
       "4                                19                     4       Yes   \n",
       "...                             ...                   ...       ...   \n",
       "10995                            28                     1       Yes   \n",
       "10996                            17                     3        No   \n",
       "10997                            16                     1       Yes   \n",
       "10998                            28                     3       Yes   \n",
       "10999                            13                     3        No   \n",
       "\n",
       "      Medication  Therapy Sessions (per month) Recent Major Life Event  \\\n",
       "0            Yes                             3                     Yes   \n",
       "1             No                             2                      No   \n",
       "2             No                             1                     Yes   \n",
       "3             No                             0                      No   \n",
       "4            Yes                             1                      No   \n",
       "...          ...                           ...                     ...   \n",
       "10995        Yes                             1                      No   \n",
       "10996         No                             2                      No   \n",
       "10997        Yes                             2                     Yes   \n",
       "10998        Yes                             1                     Yes   \n",
       "10999         No                             2                     Yes   \n",
       "\n",
       "       Diet Quality (1-10)  Anxiety Level (1-10)  \n",
       "0                        7                   5.0  \n",
       "1                        8                   3.0  \n",
       "2                        1                   1.0  \n",
       "3                        1                   2.0  \n",
       "4                        3                   1.0  \n",
       "...                    ...                   ...  \n",
       "10995                    3                   6.0  \n",
       "10996                    7                   3.0  \n",
       "10997                    7                   4.0  \n",
       "10998                    2                   4.0  \n",
       "10999                    8                   2.0  \n",
       "\n",
       "[11000 rows x 19 columns]"
      ]
     },
     "execution_count": 342,
     "metadata": {},
     "output_type": "execute_result"
    }
   ],
   "source": [
    "enhanced_anxiety_data"
   ]
  },
  {
   "cell_type": "code",
   "execution_count": 343,
   "id": "f305bb2c",
   "metadata": {},
   "outputs": [],
   "source": [
    "enhanced_anxiety_data.columns = [to_snake_case(c) for c in enhanced_anxiety_data.columns]"
   ]
  },
  {
   "cell_type": "code",
   "execution_count": 344,
   "id": "4de919c0",
   "metadata": {},
   "outputs": [
    {
     "name": "stdout",
     "output_type": "stream",
     "text": [
      "smoking => ['Yes' 'No']\n",
      "family_history_of_anxiety => ['No' 'Yes']\n",
      "dizziness => ['No' 'Yes']\n",
      "medication => ['Yes' 'No']\n",
      "recent_major_life_event => ['Yes' 'No']\n"
     ]
    }
   ],
   "source": [
    "print(f\"smoking => {enhanced_anxiety_data.smoking.unique()}\")\n",
    "print(f\"family_history_of_anxiety => {enhanced_anxiety_data.family_history_of_anxiety.unique()}\")\n",
    "print(f\"dizziness => {enhanced_anxiety_data.dizziness.unique()}\")\n",
    "print(f\"medication => {enhanced_anxiety_data.medication.unique()}\")\n",
    "print(f\"recent_major_life_event => {enhanced_anxiety_data.recent_major_life_event.unique()}\")"
   ]
  },
  {
   "cell_type": "code",
   "execution_count": 345,
   "id": "be2fef54",
   "metadata": {},
   "outputs": [],
   "source": [
    "binary_encode(enhanced_anxiety_data, \"smoking\")\n",
    "binary_encode(enhanced_anxiety_data, \"family_history_of_anxiety\")\n",
    "binary_encode(enhanced_anxiety_data, \"dizziness\")\n",
    "binary_encode(enhanced_anxiety_data, \"medication\")\n",
    "binary_encode(enhanced_anxiety_data, \"recent_major_life_event\")"
   ]
  },
  {
   "cell_type": "code",
   "execution_count": 346,
   "id": "ff4ded5b",
   "metadata": {},
   "outputs": [
    {
     "name": "stdout",
     "output_type": "stream",
     "text": [
      "gender => ['Female' 'Other' 'Male']\n"
     ]
    }
   ],
   "source": [
    "print(f\"gender => {enhanced_anxiety_data.gender.unique()}\")"
   ]
  },
  {
   "cell_type": "markdown",
   "id": "0c356e49",
   "metadata": {},
   "source": [
    "We can notice that in this dataset exist records whose gender is *other*.\n",
    "\n",
    "Let's check the distribution of the column so we know what to do with those rows."
   ]
  },
  {
   "cell_type": "code",
   "execution_count": 347,
   "id": "2722d819",
   "metadata": {},
   "outputs": [
    {
     "data": {
      "image/png": "[encoded data removed]",
      "text/plain": [
       "<Figure size 640x480 with 1 Axes>"
      ]
     },
     "metadata": {},
     "output_type": "display_data"
    }
   ],
   "source": [
    "plot_category_counts(enhanced_anxiety_data, \"gender\", title=\"Distribution of Gender\", xlabel=\"Gender\")"
   ]
  },
  {
   "cell_type": "markdown",
   "id": "73131405",
   "metadata": {},
   "source": [
    "As we can see we have roughly an uniform distribution of the gender columns and having it removed will make a great bias."
   ]
  },
  {
   "cell_type": "markdown",
   "id": "b04c3364",
   "metadata": {},
   "source": [
    "Having said that, the *gender* column's type is no longer binary but nominal.\n",
    "\n",
    "Therefore, *one-hot-encoding* is the appropriate method to represent it as numbers without creating artificial order."
   ]
  },
  {
   "cell_type": "markdown",
   "id": "d04960ba",
   "metadata": {},
   "source": [
    "### Ocd Patient Dataset"
   ]
  },
  {
   "cell_type": "code",
   "execution_count": 348,
   "id": "e70f754c",
   "metadata": {},
   "outputs": [],
   "source": [
    "ocd_patient_data = pd.read_csv('data/ocd_patient_dataset.csv')"
   ]
  },
  {
   "cell_type": "code",
   "execution_count": 349,
   "id": "3ee13a0b",
   "metadata": {},
   "outputs": [
    {
     "data": {
      "text/html": [
       "<div>\n",
       "<style scoped>\n",
       "    .dataframe tbody tr th:only-of-type {\n",
       "        vertical-align: middle;\n",
       "    }\n",
       "\n",
       "    .dataframe tbody tr th {\n",
       "        vertical-align: top;\n",
       "    }\n",
       "\n",
       "    .dataframe thead th {\n",
       "        text-align: right;\n",
       "    }\n",
       "</style>\n",
       "<table border=\"1\" class=\"dataframe\">\n",
       "  <thead>\n",
       "    <tr style=\"text-align: right;\">\n",
       "      <th></th>\n",
       "      <th>Patient ID</th>\n",
       "      <th>Age</th>\n",
       "      <th>Gender</th>\n",
       "      <th>Ethnicity</th>\n",
       "      <th>Marital Status</th>\n",
       "      <th>Education Level</th>\n",
       "      <th>OCD Diagnosis Date</th>\n",
       "      <th>Duration of Symptoms (months)</th>\n",
       "      <th>Previous Diagnoses</th>\n",
       "      <th>Family History of OCD</th>\n",
       "      <th>Obsession Type</th>\n",
       "      <th>Compulsion Type</th>\n",
       "      <th>Y-BOCS Score (Obsessions)</th>\n",
       "      <th>Y-BOCS Score (Compulsions)</th>\n",
       "      <th>Depression Diagnosis</th>\n",
       "      <th>Anxiety Diagnosis</th>\n",
       "      <th>Medications</th>\n",
       "    </tr>\n",
       "  </thead>\n",
       "  <tbody>\n",
       "    <tr>\n",
       "      <th>0</th>\n",
       "      <td>1018</td>\n",
       "      <td>32</td>\n",
       "      <td>Female</td>\n",
       "      <td>African</td>\n",
       "      <td>Single</td>\n",
       "      <td>Some College</td>\n",
       "      <td>2016-07-15</td>\n",
       "      <td>203</td>\n",
       "      <td>MDD</td>\n",
       "      <td>No</td>\n",
       "      <td>Harm-related</td>\n",
       "      <td>Checking</td>\n",
       "      <td>17</td>\n",
       "      <td>10</td>\n",
       "      <td>Yes</td>\n",
       "      <td>Yes</td>\n",
       "      <td>SNRI</td>\n",
       "    </tr>\n",
       "    <tr>\n",
       "      <th>1</th>\n",
       "      <td>2406</td>\n",
       "      <td>69</td>\n",
       "      <td>Male</td>\n",
       "      <td>African</td>\n",
       "      <td>Divorced</td>\n",
       "      <td>Some College</td>\n",
       "      <td>2017-04-28</td>\n",
       "      <td>180</td>\n",
       "      <td>NaN</td>\n",
       "      <td>Yes</td>\n",
       "      <td>Harm-related</td>\n",
       "      <td>Washing</td>\n",
       "      <td>21</td>\n",
       "      <td>25</td>\n",
       "      <td>Yes</td>\n",
       "      <td>Yes</td>\n",
       "      <td>SSRI</td>\n",
       "    </tr>\n",
       "    <tr>\n",
       "      <th>2</th>\n",
       "      <td>1188</td>\n",
       "      <td>57</td>\n",
       "      <td>Male</td>\n",
       "      <td>Hispanic</td>\n",
       "      <td>Divorced</td>\n",
       "      <td>College Degree</td>\n",
       "      <td>2018-02-02</td>\n",
       "      <td>173</td>\n",
       "      <td>MDD</td>\n",
       "      <td>No</td>\n",
       "      <td>Contamination</td>\n",
       "      <td>Checking</td>\n",
       "      <td>3</td>\n",
       "      <td>4</td>\n",
       "      <td>No</td>\n",
       "      <td>No</td>\n",
       "      <td>Benzodiazepine</td>\n",
       "    </tr>\n",
       "    <tr>\n",
       "      <th>3</th>\n",
       "      <td>6200</td>\n",
       "      <td>27</td>\n",
       "      <td>Female</td>\n",
       "      <td>Hispanic</td>\n",
       "      <td>Married</td>\n",
       "      <td>College Degree</td>\n",
       "      <td>2014-08-25</td>\n",
       "      <td>126</td>\n",
       "      <td>PTSD</td>\n",
       "      <td>Yes</td>\n",
       "      <td>Symmetry</td>\n",
       "      <td>Washing</td>\n",
       "      <td>14</td>\n",
       "      <td>28</td>\n",
       "      <td>Yes</td>\n",
       "      <td>Yes</td>\n",
       "      <td>SSRI</td>\n",
       "    </tr>\n",
       "    <tr>\n",
       "      <th>4</th>\n",
       "      <td>5824</td>\n",
       "      <td>56</td>\n",
       "      <td>Female</td>\n",
       "      <td>Hispanic</td>\n",
       "      <td>Married</td>\n",
       "      <td>High School</td>\n",
       "      <td>2022-02-20</td>\n",
       "      <td>168</td>\n",
       "      <td>PTSD</td>\n",
       "      <td>Yes</td>\n",
       "      <td>Hoarding</td>\n",
       "      <td>Ordering</td>\n",
       "      <td>39</td>\n",
       "      <td>18</td>\n",
       "      <td>No</td>\n",
       "      <td>No</td>\n",
       "      <td>NaN</td>\n",
       "    </tr>\n",
       "    <tr>\n",
       "      <th>...</th>\n",
       "      <td>...</td>\n",
       "      <td>...</td>\n",
       "      <td>...</td>\n",
       "      <td>...</td>\n",
       "      <td>...</td>\n",
       "      <td>...</td>\n",
       "      <td>...</td>\n",
       "      <td>...</td>\n",
       "      <td>...</td>\n",
       "      <td>...</td>\n",
       "      <td>...</td>\n",
       "      <td>...</td>\n",
       "      <td>...</td>\n",
       "      <td>...</td>\n",
       "      <td>...</td>\n",
       "      <td>...</td>\n",
       "      <td>...</td>\n",
       "    </tr>\n",
       "    <tr>\n",
       "      <th>1495</th>\n",
       "      <td>5374</td>\n",
       "      <td>38</td>\n",
       "      <td>Male</td>\n",
       "      <td>Hispanic</td>\n",
       "      <td>Divorced</td>\n",
       "      <td>College Degree</td>\n",
       "      <td>2019-01-10</td>\n",
       "      <td>53</td>\n",
       "      <td>MDD</td>\n",
       "      <td>No</td>\n",
       "      <td>Contamination</td>\n",
       "      <td>Washing</td>\n",
       "      <td>21</td>\n",
       "      <td>33</td>\n",
       "      <td>Yes</td>\n",
       "      <td>Yes</td>\n",
       "      <td>SSRI</td>\n",
       "    </tr>\n",
       "    <tr>\n",
       "      <th>1496</th>\n",
       "      <td>5013</td>\n",
       "      <td>19</td>\n",
       "      <td>Female</td>\n",
       "      <td>Hispanic</td>\n",
       "      <td>Divorced</td>\n",
       "      <td>Graduate Degree</td>\n",
       "      <td>2022-09-14</td>\n",
       "      <td>160</td>\n",
       "      <td>GAD</td>\n",
       "      <td>Yes</td>\n",
       "      <td>Hoarding</td>\n",
       "      <td>Praying</td>\n",
       "      <td>25</td>\n",
       "      <td>16</td>\n",
       "      <td>Yes</td>\n",
       "      <td>Yes</td>\n",
       "      <td>SSRI</td>\n",
       "    </tr>\n",
       "    <tr>\n",
       "      <th>1497</th>\n",
       "      <td>6089</td>\n",
       "      <td>40</td>\n",
       "      <td>Male</td>\n",
       "      <td>Asian</td>\n",
       "      <td>Married</td>\n",
       "      <td>Some College</td>\n",
       "      <td>2018-03-13</td>\n",
       "      <td>100</td>\n",
       "      <td>NaN</td>\n",
       "      <td>Yes</td>\n",
       "      <td>Contamination</td>\n",
       "      <td>Counting</td>\n",
       "      <td>2</td>\n",
       "      <td>15</td>\n",
       "      <td>Yes</td>\n",
       "      <td>Yes</td>\n",
       "      <td>Benzodiazepine</td>\n",
       "    </tr>\n",
       "    <tr>\n",
       "      <th>1498</th>\n",
       "      <td>3808</td>\n",
       "      <td>37</td>\n",
       "      <td>Female</td>\n",
       "      <td>Caucasian</td>\n",
       "      <td>Married</td>\n",
       "      <td>Some College</td>\n",
       "      <td>2018-04-14</td>\n",
       "      <td>210</td>\n",
       "      <td>GAD</td>\n",
       "      <td>Yes</td>\n",
       "      <td>Contamination</td>\n",
       "      <td>Washing</td>\n",
       "      <td>16</td>\n",
       "      <td>7</td>\n",
       "      <td>Yes</td>\n",
       "      <td>No</td>\n",
       "      <td>Benzodiazepine</td>\n",
       "    </tr>\n",
       "    <tr>\n",
       "      <th>1499</th>\n",
       "      <td>2221</td>\n",
       "      <td>18</td>\n",
       "      <td>Male</td>\n",
       "      <td>Caucasian</td>\n",
       "      <td>Single</td>\n",
       "      <td>High School</td>\n",
       "      <td>2020-12-23</td>\n",
       "      <td>91</td>\n",
       "      <td>NaN</td>\n",
       "      <td>Yes</td>\n",
       "      <td>Hoarding</td>\n",
       "      <td>Ordering</td>\n",
       "      <td>22</td>\n",
       "      <td>34</td>\n",
       "      <td>Yes</td>\n",
       "      <td>No</td>\n",
       "      <td>SNRI</td>\n",
       "    </tr>\n",
       "  </tbody>\n",
       "</table>\n",
       "<p>1500 rows × 17 columns</p>\n",
       "</div>"
      ],
      "text/plain": [
       "      Patient ID  Age  Gender  Ethnicity Marital Status  Education Level  \\\n",
       "0           1018   32  Female    African         Single     Some College   \n",
       "1           2406   69    Male    African       Divorced     Some College   \n",
       "2           1188   57    Male   Hispanic       Divorced   College Degree   \n",
       "3           6200   27  Female   Hispanic        Married   College Degree   \n",
       "4           5824   56  Female   Hispanic        Married      High School   \n",
       "...          ...  ...     ...        ...            ...              ...   \n",
       "1495        5374   38    Male   Hispanic       Divorced   College Degree   \n",
       "1496        5013   19  Female   Hispanic       Divorced  Graduate Degree   \n",
       "1497        6089   40    Male      Asian        Married     Some College   \n",
       "1498        3808   37  Female  Caucasian        Married     Some College   \n",
       "1499        2221   18    Male  Caucasian         Single      High School   \n",
       "\n",
       "     OCD Diagnosis Date  Duration of Symptoms (months) Previous Diagnoses  \\\n",
       "0            2016-07-15                            203                MDD   \n",
       "1            2017-04-28                            180                NaN   \n",
       "2            2018-02-02                            173                MDD   \n",
       "3            2014-08-25                            126               PTSD   \n",
       "4            2022-02-20                            168               PTSD   \n",
       "...                 ...                            ...                ...   \n",
       "1495         2019-01-10                             53                MDD   \n",
       "1496         2022-09-14                            160                GAD   \n",
       "1497         2018-03-13                            100                NaN   \n",
       "1498         2018-04-14                            210                GAD   \n",
       "1499         2020-12-23                             91                NaN   \n",
       "\n",
       "     Family History of OCD Obsession Type Compulsion Type  \\\n",
       "0                       No   Harm-related        Checking   \n",
       "1                      Yes   Harm-related         Washing   \n",
       "2                       No  Contamination        Checking   \n",
       "3                      Yes       Symmetry         Washing   \n",
       "4                      Yes       Hoarding        Ordering   \n",
       "...                    ...            ...             ...   \n",
       "1495                    No  Contamination         Washing   \n",
       "1496                   Yes       Hoarding         Praying   \n",
       "1497                   Yes  Contamination        Counting   \n",
       "1498                   Yes  Contamination         Washing   \n",
       "1499                   Yes       Hoarding        Ordering   \n",
       "\n",
       "      Y-BOCS Score (Obsessions)  Y-BOCS Score (Compulsions)  \\\n",
       "0                            17                          10   \n",
       "1                            21                          25   \n",
       "2                             3                           4   \n",
       "3                            14                          28   \n",
       "4                            39                          18   \n",
       "...                         ...                         ...   \n",
       "1495                         21                          33   \n",
       "1496                         25                          16   \n",
       "1497                          2                          15   \n",
       "1498                         16                           7   \n",
       "1499                         22                          34   \n",
       "\n",
       "     Depression Diagnosis Anxiety Diagnosis     Medications  \n",
       "0                     Yes               Yes            SNRI  \n",
       "1                     Yes               Yes            SSRI  \n",
       "2                      No                No  Benzodiazepine  \n",
       "3                     Yes               Yes            SSRI  \n",
       "4                      No                No             NaN  \n",
       "...                   ...               ...             ...  \n",
       "1495                  Yes               Yes            SSRI  \n",
       "1496                  Yes               Yes            SSRI  \n",
       "1497                  Yes               Yes  Benzodiazepine  \n",
       "1498                  Yes                No  Benzodiazepine  \n",
       "1499                  Yes                No            SNRI  \n",
       "\n",
       "[1500 rows x 17 columns]"
      ]
     },
     "execution_count": 349,
     "metadata": {},
     "output_type": "execute_result"
    }
   ],
   "source": [
    "ocd_patient_data"
   ]
  },
  {
   "cell_type": "code",
   "execution_count": 350,
   "id": "f1e09b7c",
   "metadata": {},
   "outputs": [],
   "source": [
    "ocd_patient_data.columns = [to_snake_case(c) for c in ocd_patient_data.columns]"
   ]
  },
  {
   "cell_type": "markdown",
   "id": "14741053",
   "metadata": {},
   "source": [
    "Again, we don't need the *patient_id* column so we'll be removing it."
   ]
  },
  {
   "cell_type": "code",
   "execution_count": 351,
   "id": "6342aadb",
   "metadata": {},
   "outputs": [],
   "source": [
    "ocd_patient_data = ocd_patient_data.drop(columns=[\"patient_id\"])"
   ]
  },
  {
   "cell_type": "code",
   "execution_count": 352,
   "id": "461afdc2",
   "metadata": {},
   "outputs": [
    {
     "name": "stdout",
     "output_type": "stream",
     "text": [
      "family_history_of_ocd => ['No' 'Yes']\n",
      "depression_diagnosis => ['Yes' 'No']\n",
      "anxiety_diagnosis => ['Yes' 'No']\n"
     ]
    }
   ],
   "source": [
    "print(f\"family_history_of_ocd => {ocd_patient_data.family_history_of_ocd.unique()}\")\n",
    "print(f\"depression_diagnosis => {ocd_patient_data.depression_diagnosis.unique()}\")\n",
    "print(f\"anxiety_diagnosis => {ocd_patient_data.anxiety_diagnosis.unique()}\")"
   ]
  },
  {
   "cell_type": "code",
   "execution_count": 353,
   "id": "32f72cc3",
   "metadata": {},
   "outputs": [],
   "source": [
    "binary_encode(ocd_patient_data, \"family_history_of_ocd\")\n",
    "binary_encode(ocd_patient_data, \"depression_diagnosis\")\n",
    "binary_encode(ocd_patient_data, \"anxiety_diagnosis\")"
   ]
  },
  {
   "cell_type": "markdown",
   "id": "a7dbbf11",
   "metadata": {},
   "source": [
    "As we've seen in the previos dataset, the gender column could consist of more than one value. Let's check."
   ]
  },
  {
   "cell_type": "code",
   "execution_count": 354,
   "id": "de38acd2",
   "metadata": {},
   "outputs": [
    {
     "data": {
      "text/plain": [
       "array(['Female', 'Male'], dtype=object)"
      ]
     },
     "execution_count": 354,
     "metadata": {},
     "output_type": "execute_result"
    }
   ],
   "source": [
    "ocd_patient_data.gender.unique()"
   ]
  },
  {
   "cell_type": "markdown",
   "id": "ce75d076",
   "metadata": {},
   "source": [
    "We can safely convert to 1 and 0"
   ]
  },
  {
   "cell_type": "code",
   "execution_count": 355,
   "id": "22cfb3b5",
   "metadata": {},
   "outputs": [],
   "source": [
    "binary_encode(ocd_patient_data, \"gender\", val1=\"Male\", val2=\"Female\")"
   ]
  },
  {
   "cell_type": "markdown",
   "id": "3dd65078",
   "metadata": {},
   "source": [
    "Education Level"
   ]
  },
  {
   "cell_type": "code",
   "execution_count": 356,
   "id": "057e36f0",
   "metadata": {},
   "outputs": [
    {
     "data": {
      "text/plain": [
       "array(['Some College', 'College Degree', 'High School', 'Graduate Degree'],\n",
       "      dtype=object)"
      ]
     },
     "execution_count": 356,
     "metadata": {},
     "output_type": "execute_result"
    }
   ],
   "source": [
    "ocd_patient_data.education_level.unique()"
   ]
  },
  {
   "cell_type": "code",
   "execution_count": 357,
   "id": "4aef0aa5",
   "metadata": {},
   "outputs": [],
   "source": [
    "ordinal_encode(\n",
    "    ocd_patient_data,\n",
    "    \"education_level\",\n",
    "    [\"Graduate Degree\", \"College Degree\", \"Some College\", \"High School\"]\n",
    ")"
   ]
  },
  {
   "cell_type": "markdown",
   "id": "237636c1",
   "metadata": {},
   "source": [
    "Check if depression or anxiety are diferent than Yes or No"
   ]
  },
  {
   "cell_type": "code",
   "execution_count": 358,
   "id": "a4f0cd31",
   "metadata": {},
   "outputs": [
    {
     "name": "stdout",
     "output_type": "stream",
     "text": [
      "[1 0]\n",
      "[1 0]\n"
     ]
    }
   ],
   "source": [
    "print(ocd_patient_data.depression_diagnosis.unique())\n",
    "print(ocd_patient_data.anxiety_diagnosis.unique())"
   ]
  },
  {
   "cell_type": "markdown",
   "id": "fd7dbe9a",
   "metadata": {},
   "source": [
    "Check obsessions and compulsions for invalid values"
   ]
  },
  {
   "cell_type": "code",
   "execution_count": 359,
   "id": "611cd7d6",
   "metadata": {},
   "outputs": [
    {
     "name": "stdout",
     "output_type": "stream",
     "text": [
      "[17 21  3 14 39 26 12 31 37 28 40  4 10 23  7 38 22  0 30  1 32 29 19  9\n",
      " 18 20 27 34  8 36 16 13 11 35  2 15 33 25  6  5 24]\n",
      "[10 25  4 28 18 11 16 24 36 26 27 39 21 20 22 12 40  5  8  0 13 38 31 34\n",
      " 37 15  1 32  3  9 33  6 19  7 30 14  2 23 35 29 17]\n",
      "['Harm-related' 'Contamination' 'Symmetry' 'Hoarding' 'Religious']\n",
      "['Checking' 'Washing' 'Ordering' 'Praying' 'Counting']\n"
     ]
    }
   ],
   "source": [
    "print(ocd_patient_data.y_bocs_score_obsessions.unique())\n",
    "print(ocd_patient_data.y_bocs_score_compulsions.unique())\n",
    "print(ocd_patient_data.obsession_type.unique())\n",
    "print(ocd_patient_data.compulsion_type.unique())"
   ]
  },
  {
   "cell_type": "markdown",
   "id": "776be8dd",
   "metadata": {},
   "source": [
    "## Some hypothesis"
   ]
  },
  {
   "cell_type": "markdown",
   "id": "783959ab",
   "metadata": {},
   "source": [
    "We are done cleaning the data and for our hypothesis we'll need some functions"
   ]
  },
  {
   "cell_type": "markdown",
   "id": "3bce6425",
   "metadata": {},
   "source": [
    "Before writing the tests functions, we need functions to determine the distributions types"
   ]
  },
  {
   "cell_type": "markdown",
   "id": "7f44a3c3",
   "metadata": {},
   "source": [
    "First function is the *Shapiro test*. We will need it to check if data has normal distribution"
   ]
  },
  {
   "cell_type": "code",
   "execution_count": 360,
   "id": "c38deaa4",
   "metadata": {},
   "outputs": [],
   "source": [
    "def shapiro_test(data, column, alpha = 0.05):\n",
    "    if column not in data.columns:\n",
    "        print(f\"Column '{column}' not found in DataFrame.\")\n",
    "        return\n",
    "\n",
    "    # Drop missing values\n",
    "    values = data[column].dropna()\n",
    "\n",
    "    # Perform Shapiro-Wilk test\n",
    "    stat, p_value = st.shapiro(values)\n",
    "\n",
    "    print(f\"Shapiro-Wilk Test for '{column}':\")\n",
    "    print(f\"Test Statistic = {stat:.4f}\")\n",
    "    print(f\"p-value = {p_value:.4f}\")\n",
    "\n",
    "    if p_value < alpha:\n",
    "        print(\"Result: Data is NOT normally distributed (reject H₀)\")\n",
    "    else:\n",
    "        print(\"Result: Data appears to be normally distributed (fail to reject H₀)\")\n",
    "\n",
    "    print()"
   ]
  },
  {
   "cell_type": "markdown",
   "id": "9579e598",
   "metadata": {},
   "source": [
    "However, if you run the function on a larger dataset, you will notice that there is a warning that says that the *Shapiro-Wilk* method may return not so accurate p-value when it is given more than ~5000 elements."
   ]
  },
  {
   "cell_type": "markdown",
   "id": "218b47f9",
   "metadata": {},
   "source": [
    "Should this happen, we will implement *Kolmogorov-Smirnov*. However, at this moment we don't need it."
   ]
  },
  {
   "cell_type": "markdown",
   "id": "b7f34eda",
   "metadata": {},
   "source": [
    "And now that we have them, we can start implementing the test functions"
   ]
  },
  {
   "cell_type": "markdown",
   "id": "90f01b49",
   "metadata": {},
   "source": [
    "The first of them will compare categories. We will be using the Chi-Squared test"
   ]
  },
  {
   "cell_type": "code",
   "execution_count": null,
   "id": "664d9056",
   "metadata": {},
   "outputs": [],
   "source": [
    "def chi_square(df, col, depression_col=\"depression\"):\n",
    "    # Create contingency table\n",
    "    table = pd.crosstab(df[col], df[depression_col])\n",
    "    print(\"Observed values:\")\n",
    "    display(table)\n",
    "\n",
    "    # Chi-square test\n",
    "    chi2, p, dof, expected = st.chi2_contingency(table)\n",
    "    print(f\"Chi2: {chi2:.4f}\")\n",
    "    print(f\"p-value: {p:.4e}\")\n",
    "    print(f\"Degrees of freedom: {dof}\")\n",
    "    print(\"Expected values:\")\n",
    "    display(pd.DataFrame(expected, index=table.index, columns=table.columns))\n",
    "\n",
    "    # Conclusion\n",
    "    if p < 0.05:\n",
    "        print(f\"Conclusion: There is a statistically significant relationship between '{col}' and '{depression_col}' (p < 0.05).\")\n",
    "    else:\n",
    "        print(f\"Conclusion: There is no statistically significant relationship between '{col}' and '{depression_col}' (p ≥ 0.05).\")\n",
    "\n",
    "    # Visualization\n",
    "    plt.figure(figsize=(8, 6))\n",
    "    ax = sns.countplot(data=df, x=col, hue=depression_col, palette=\"Set2\")\n",
    "\n",
    "    # Title with p-value\n",
    "    plt.title(f\"Distribution of '{depression_col}' by '{col}' (p = {p:.4e})\", fontsize=14)\n",
    "\n",
    "    # Labels\n",
    "    plt.xlabel(col, fontsize=12)\n",
    "    plt.ylabel(\"Number of participants\", fontsize=12)\n",
    "\n",
    "    # Legend with actual category names\n",
    "    handles, labels = ax.get_legend_handles_labels()\n",
    "    ax.legend(handles, labels, title=depression_col)\n",
    "\n",
    "    # Add counts on top of bars\n",
    "    for container in ax.containers:\n",
    "        ax.bar_label(container, fmt='%d', label_type='edge', fontsize=10)\n",
    "\n",
    "    plt.tight_layout()\n",
    "    plt.show()"
   ]
  },
  {
   "cell_type": "markdown",
   "id": "ff316a0b",
   "metadata": {},
   "source": [
    "### What may affect probability of depression"
   ]
  },
  {
   "cell_type": "markdown",
   "id": "f042b8bf",
   "metadata": {},
   "source": [
    "For this section, we have three tests and therefore three Null hypothesis."
   ]
  },
  {
   "cell_type": "markdown",
   "id": "a3448dab",
   "metadata": {},
   "source": [
    "$ H_0 $ Students that have high academic pressure aren't more likely to have depression.\n",
    "\n",
    "$ H_A $ Students that have high academic pressure are more likely to have depression."
   ]
  },
  {
   "cell_type": "code",
   "execution_count": 362,
   "id": "9ab713a2",
   "metadata": {},
   "outputs": [
    {
     "name": "stdout",
     "output_type": "stream",
     "text": [
      "Observed values:\n"
     ]
    },
    {
     "data": {
      "text/html": [
       "<div>\n",
       "<style scoped>\n",
       "    .dataframe tbody tr th:only-of-type {\n",
       "        vertical-align: middle;\n",
       "    }\n",
       "\n",
       "    .dataframe tbody tr th {\n",
       "        vertical-align: top;\n",
       "    }\n",
       "\n",
       "    .dataframe thead th {\n",
       "        text-align: right;\n",
       "    }\n",
       "</style>\n",
       "<table border=\"1\" class=\"dataframe\">\n",
       "  <thead>\n",
       "    <tr style=\"text-align: right;\">\n",
       "      <th>depression</th>\n",
       "      <th>0</th>\n",
       "      <th>1</th>\n",
       "    </tr>\n",
       "    <tr>\n",
       "      <th>academic_pressure</th>\n",
       "      <th></th>\n",
       "      <th></th>\n",
       "    </tr>\n",
       "  </thead>\n",
       "  <tbody>\n",
       "    <tr>\n",
       "      <th>0.0</th>\n",
       "      <td>2</td>\n",
       "      <td>1</td>\n",
       "    </tr>\n",
       "    <tr>\n",
       "      <th>1.0</th>\n",
       "      <td>3866</td>\n",
       "      <td>931</td>\n",
       "    </tr>\n",
       "    <tr>\n",
       "      <th>2.0</th>\n",
       "      <td>2608</td>\n",
       "      <td>1561</td>\n",
       "    </tr>\n",
       "    <tr>\n",
       "      <th>3.0</th>\n",
       "      <td>2966</td>\n",
       "      <td>4474</td>\n",
       "    </tr>\n",
       "    <tr>\n",
       "      <th>4.0</th>\n",
       "      <td>1227</td>\n",
       "      <td>3915</td>\n",
       "    </tr>\n",
       "    <tr>\n",
       "      <th>5.0</th>\n",
       "      <td>876</td>\n",
       "      <td>5405</td>\n",
       "    </tr>\n",
       "  </tbody>\n",
       "</table>\n",
       "</div>"
      ],
      "text/plain": [
       "depression            0     1\n",
       "academic_pressure            \n",
       "0.0                   2     1\n",
       "1.0                3866   931\n",
       "2.0                2608  1561\n",
       "3.0                2966  4474\n",
       "4.0                1227  3915\n",
       "5.0                 876  5405"
      ]
     },
     "metadata": {},
     "output_type": "display_data"
    },
    {
     "name": "stdout",
     "output_type": "stream",
     "text": [
      "Chi2: 6413.7891\n",
      "p-value: 0.0000e+00\n",
      "Degrees of freedom: 5\n",
      "Expected values:\n"
     ]
    },
    {
     "data": {
      "text/html": [
       "<div>\n",
       "<style scoped>\n",
       "    .dataframe tbody tr th:only-of-type {\n",
       "        vertical-align: middle;\n",
       "    }\n",
       "\n",
       "    .dataframe tbody tr th {\n",
       "        vertical-align: top;\n",
       "    }\n",
       "\n",
       "    .dataframe thead th {\n",
       "        text-align: right;\n",
       "    }\n",
       "</style>\n",
       "<table border=\"1\" class=\"dataframe\">\n",
       "  <thead>\n",
       "    <tr style=\"text-align: right;\">\n",
       "      <th>depression</th>\n",
       "      <th>0</th>\n",
       "      <th>1</th>\n",
       "    </tr>\n",
       "    <tr>\n",
       "      <th>academic_pressure</th>\n",
       "      <th></th>\n",
       "      <th></th>\n",
       "    </tr>\n",
       "  </thead>\n",
       "  <tbody>\n",
       "    <tr>\n",
       "      <th>0.0</th>\n",
       "      <td>1.244431</td>\n",
       "      <td>1.755569</td>\n",
       "    </tr>\n",
       "    <tr>\n",
       "      <th>1.0</th>\n",
       "      <td>1989.844963</td>\n",
       "      <td>2807.155037</td>\n",
       "    </tr>\n",
       "    <tr>\n",
       "      <th>2.0</th>\n",
       "      <td>1729.344100</td>\n",
       "      <td>2439.655900</td>\n",
       "    </tr>\n",
       "    <tr>\n",
       "      <th>3.0</th>\n",
       "      <td>3086.188560</td>\n",
       "      <td>4353.811440</td>\n",
       "    </tr>\n",
       "    <tr>\n",
       "      <th>4.0</th>\n",
       "      <td>2132.954513</td>\n",
       "      <td>3009.045487</td>\n",
       "    </tr>\n",
       "    <tr>\n",
       "      <th>5.0</th>\n",
       "      <td>2605.423433</td>\n",
       "      <td>3675.576567</td>\n",
       "    </tr>\n",
       "  </tbody>\n",
       "</table>\n",
       "</div>"
      ],
      "text/plain": [
       "depression                   0            1\n",
       "academic_pressure                          \n",
       "0.0                   1.244431     1.755569\n",
       "1.0                1989.844963  2807.155037\n",
       "2.0                1729.344100  2439.655900\n",
       "3.0                3086.188560  4353.811440\n",
       "4.0                2132.954513  3009.045487\n",
       "5.0                2605.423433  3675.576567"
      ]
     },
     "metadata": {},
     "output_type": "display_data"
    },
    {
     "name": "stdout",
     "output_type": "stream",
     "text": [
      "Conclusion: There is a statistically significant relationship between 'academic_pressure' and 'depression' (p < 0.05).\n"
     ]
    },
    {
     "data": {
      "image/png": "[encoded data removed]",
      "text/plain": [
       "<Figure size 800x600 with 1 Axes>"
      ]
     },
     "metadata": {},
     "output_type": "display_data"
    }
   ],
   "source": [
    "chi_square(student_depression_data, col=\"academic_pressure\")"
   ]
  },
  {
   "cell_type": "markdown",
   "id": "efcfc174",
   "metadata": {},
   "source": [
    "As we can see, the p-value is 0.0000e+00 which is significantly less than 0.05 and the expected values are very diferent than the observed. Therefore we can safely conclude that the $ H_0 $ can be rejected and the *academic pressure* actually affects students depression."
   ]
  },
  {
   "cell_type": "markdown",
   "id": "95b925ee",
   "metadata": {},
   "source": [
    "Let's now make two more tests"
   ]
  },
  {
   "cell_type": "markdown",
   "id": "a18ff69a",
   "metadata": {},
   "source": [
    "$ H_0 $ Students that have high financial stress aren't more likely to have depression.\n",
    "\n",
    "$ H_A $ Students that have high financial stress are more likely to have depression."
   ]
  },
  {
   "cell_type": "code",
   "execution_count": 363,
   "id": "a766c001",
   "metadata": {},
   "outputs": [
    {
     "name": "stdout",
     "output_type": "stream",
     "text": [
      "Observed values:\n"
     ]
    },
    {
     "data": {
      "text/html": [
       "<div>\n",
       "<style scoped>\n",
       "    .dataframe tbody tr th:only-of-type {\n",
       "        vertical-align: middle;\n",
       "    }\n",
       "\n",
       "    .dataframe tbody tr th {\n",
       "        vertical-align: top;\n",
       "    }\n",
       "\n",
       "    .dataframe thead th {\n",
       "        text-align: right;\n",
       "    }\n",
       "</style>\n",
       "<table border=\"1\" class=\"dataframe\">\n",
       "  <thead>\n",
       "    <tr style=\"text-align: right;\">\n",
       "      <th>depression</th>\n",
       "      <th>0</th>\n",
       "      <th>1</th>\n",
       "    </tr>\n",
       "    <tr>\n",
       "      <th>family_history_of_mental_illness</th>\n",
       "      <th></th>\n",
       "      <th></th>\n",
       "    </tr>\n",
       "  </thead>\n",
       "  <tbody>\n",
       "    <tr>\n",
       "      <th>0</th>\n",
       "      <td>6321</td>\n",
       "      <td>8038</td>\n",
       "    </tr>\n",
       "    <tr>\n",
       "      <th>1</th>\n",
       "      <td>5224</td>\n",
       "      <td>8249</td>\n",
       "    </tr>\n",
       "  </tbody>\n",
       "</table>\n",
       "</div>"
      ],
      "text/plain": [
       "depression                           0     1\n",
       "family_history_of_mental_illness            \n",
       "0                                 6321  8038\n",
       "1                                 5224  8249"
      ]
     },
     "metadata": {},
     "output_type": "display_data"
    },
    {
     "name": "stdout",
     "output_type": "stream",
     "text": [
      "Chi2: 78.6290\n",
      "p-value: 7.4942e-19\n",
      "Degrees of freedom: 1\n",
      "Expected values:\n"
     ]
    },
    {
     "data": {
      "text/html": [
       "<div>\n",
       "<style scoped>\n",
       "    .dataframe tbody tr th:only-of-type {\n",
       "        vertical-align: middle;\n",
       "    }\n",
       "\n",
       "    .dataframe tbody tr th {\n",
       "        vertical-align: top;\n",
       "    }\n",
       "\n",
       "    .dataframe thead th {\n",
       "        text-align: right;\n",
       "    }\n",
       "</style>\n",
       "<table border=\"1\" class=\"dataframe\">\n",
       "  <thead>\n",
       "    <tr style=\"text-align: right;\">\n",
       "      <th>depression</th>\n",
       "      <th>0</th>\n",
       "      <th>1</th>\n",
       "    </tr>\n",
       "    <tr>\n",
       "      <th>family_history_of_mental_illness</th>\n",
       "      <th></th>\n",
       "      <th></th>\n",
       "    </tr>\n",
       "  </thead>\n",
       "  <tbody>\n",
       "    <tr>\n",
       "      <th>0</th>\n",
       "      <td>5956.260959</td>\n",
       "      <td>8402.739041</td>\n",
       "    </tr>\n",
       "    <tr>\n",
       "      <th>1</th>\n",
       "      <td>5588.739041</td>\n",
       "      <td>7884.260959</td>\n",
       "    </tr>\n",
       "  </tbody>\n",
       "</table>\n",
       "</div>"
      ],
      "text/plain": [
       "depression                                  0            1\n",
       "family_history_of_mental_illness                          \n",
       "0                                 5956.260959  8402.739041\n",
       "1                                 5588.739041  7884.260959"
      ]
     },
     "metadata": {},
     "output_type": "display_data"
    },
    {
     "name": "stdout",
     "output_type": "stream",
     "text": [
      "Conclusion: There is a statistically significant relationship between 'family_history_of_mental_illness' and 'depression' (p < 0.05).\n"
     ]
    },
    {
     "data": {
      "image/png": "[encoded data removed]",
      "text/plain": [
       "<Figure size 800x600 with 1 Axes>"
      ]
     },
     "metadata": {},
     "output_type": "display_data"
    }
   ],
   "source": [
    "chi_square(student_depression_data, col=\"family_history_of_mental_illness\")"
   ]
  },
  {
   "cell_type": "markdown",
   "id": "bb0d9b7a",
   "metadata": {},
   "source": [
    "As we can see, the p-value is 7.4942e-19 which is significantly less than 0.05 and the expected values are very diferent than the observed. Therefore we can safely conclude that the $ H_0 $ can be rejected and the *family history of mental illness* actually affects students depression."
   ]
  },
  {
   "cell_type": "markdown",
   "id": "ff770837",
   "metadata": {},
   "source": [
    "And the final test"
   ]
  },
  {
   "cell_type": "markdown",
   "id": "1e9f3343",
   "metadata": {},
   "source": [
    "$ H_0 $ Students of diferent gender aren't more likely to have depression.\n",
    "\n",
    "$ H_A $ Students of diferent gender are more likely to have depression."
   ]
  },
  {
   "cell_type": "code",
   "execution_count": 364,
   "id": "46d03535",
   "metadata": {},
   "outputs": [
    {
     "name": "stdout",
     "output_type": "stream",
     "text": [
      "Observed values:\n"
     ]
    },
    {
     "data": {
      "text/html": [
       "<div>\n",
       "<style scoped>\n",
       "    .dataframe tbody tr th:only-of-type {\n",
       "        vertical-align: middle;\n",
       "    }\n",
       "\n",
       "    .dataframe tbody tr th {\n",
       "        vertical-align: top;\n",
       "    }\n",
       "\n",
       "    .dataframe thead th {\n",
       "        text-align: right;\n",
       "    }\n",
       "</style>\n",
       "<table border=\"1\" class=\"dataframe\">\n",
       "  <thead>\n",
       "    <tr style=\"text-align: right;\">\n",
       "      <th>depression</th>\n",
       "      <th>0</th>\n",
       "      <th>1</th>\n",
       "    </tr>\n",
       "    <tr>\n",
       "      <th>gender</th>\n",
       "      <th></th>\n",
       "      <th></th>\n",
       "    </tr>\n",
       "  </thead>\n",
       "  <tbody>\n",
       "    <tr>\n",
       "      <th>0</th>\n",
       "      <td>5127</td>\n",
       "      <td>7199</td>\n",
       "    </tr>\n",
       "    <tr>\n",
       "      <th>1</th>\n",
       "      <td>6418</td>\n",
       "      <td>9088</td>\n",
       "    </tr>\n",
       "  </tbody>\n",
       "</table>\n",
       "</div>"
      ],
      "text/plain": [
       "depression     0     1\n",
       "gender                \n",
       "0           5127  7199\n",
       "1           6418  9088"
      ]
     },
     "metadata": {},
     "output_type": "display_data"
    },
    {
     "name": "stdout",
     "output_type": "stream",
     "text": [
      "Chi2: 0.1101\n",
      "p-value: 7.4001e-01\n",
      "Degrees of freedom: 1\n",
      "Expected values:\n"
     ]
    },
    {
     "data": {
      "text/html": [
       "<div>\n",
       "<style scoped>\n",
       "    .dataframe tbody tr th:only-of-type {\n",
       "        vertical-align: middle;\n",
       "    }\n",
       "\n",
       "    .dataframe tbody tr th {\n",
       "        vertical-align: top;\n",
       "    }\n",
       "\n",
       "    .dataframe thead th {\n",
       "        text-align: right;\n",
       "    }\n",
       "</style>\n",
       "<table border=\"1\" class=\"dataframe\">\n",
       "  <thead>\n",
       "    <tr style=\"text-align: right;\">\n",
       "      <th>depression</th>\n",
       "      <th>0</th>\n",
       "      <th>1</th>\n",
       "    </tr>\n",
       "    <tr>\n",
       "      <th>gender</th>\n",
       "      <th></th>\n",
       "      <th></th>\n",
       "    </tr>\n",
       "  </thead>\n",
       "  <tbody>\n",
       "    <tr>\n",
       "      <th>0</th>\n",
       "      <td>5112.951638</td>\n",
       "      <td>7213.048362</td>\n",
       "    </tr>\n",
       "    <tr>\n",
       "      <th>1</th>\n",
       "      <td>6432.048362</td>\n",
       "      <td>9073.951638</td>\n",
       "    </tr>\n",
       "  </tbody>\n",
       "</table>\n",
       "</div>"
      ],
      "text/plain": [
       "depression            0            1\n",
       "gender                              \n",
       "0           5112.951638  7213.048362\n",
       "1           6432.048362  9073.951638"
      ]
     },
     "metadata": {},
     "output_type": "display_data"
    },
    {
     "name": "stdout",
     "output_type": "stream",
     "text": [
      "Conclusion: There is no statistically significant relationship between 'gender' and 'depression' (p ≥ 0.05).\n"
     ]
    },
    {
     "data": {
      "image/png": "[encoded data removed]",
      "text/plain": [
       "<Figure size 800x600 with 1 Axes>"
      ]
     },
     "metadata": {},
     "output_type": "display_data"
    }
   ],
   "source": [
    "chi_square(student_depression_data, col=\"gender\")"
   ]
  },
  {
   "cell_type": "markdown",
   "id": "e899f8a5",
   "metadata": {},
   "source": [
    "As we can see, the p-value is 0.74001 which is significantly larger than 0.05 and the expected values are very similar to the observed. Therefore we can safely conclude that the $ H_0 $ cannot be rejected and the *gender* doesn't affect students depression."
   ]
  },
  {
   "cell_type": "markdown",
   "id": "fa05aebd",
   "metadata": {},
   "source": [
    "### Obsessive Compulsive Disorder - By Category"
   ]
  },
  {
   "cell_type": "code",
   "execution_count": 365,
   "id": "868f5e2f",
   "metadata": {},
   "outputs": [
    {
     "data": {
      "text/html": [
       "<div>\n",
       "<style scoped>\n",
       "    .dataframe tbody tr th:only-of-type {\n",
       "        vertical-align: middle;\n",
       "    }\n",
       "\n",
       "    .dataframe tbody tr th {\n",
       "        vertical-align: top;\n",
       "    }\n",
       "\n",
       "    .dataframe thead th {\n",
       "        text-align: right;\n",
       "    }\n",
       "</style>\n",
       "<table border=\"1\" class=\"dataframe\">\n",
       "  <thead>\n",
       "    <tr style=\"text-align: right;\">\n",
       "      <th></th>\n",
       "      <th>age</th>\n",
       "      <th>gender</th>\n",
       "      <th>ethnicity</th>\n",
       "      <th>marital_status</th>\n",
       "      <th>education_level</th>\n",
       "      <th>ocd_diagnosis_date</th>\n",
       "      <th>duration_of_symptoms_months</th>\n",
       "      <th>previous_diagnoses</th>\n",
       "      <th>family_history_of_ocd</th>\n",
       "      <th>obsession_type</th>\n",
       "      <th>compulsion_type</th>\n",
       "      <th>y_bocs_score_obsessions</th>\n",
       "      <th>y_bocs_score_compulsions</th>\n",
       "      <th>depression_diagnosis</th>\n",
       "      <th>anxiety_diagnosis</th>\n",
       "      <th>medications</th>\n",
       "    </tr>\n",
       "  </thead>\n",
       "  <tbody>\n",
       "    <tr>\n",
       "      <th>0</th>\n",
       "      <td>32</td>\n",
       "      <td>0</td>\n",
       "      <td>African</td>\n",
       "      <td>Single</td>\n",
       "      <td>2.0</td>\n",
       "      <td>2016-07-15</td>\n",
       "      <td>203</td>\n",
       "      <td>MDD</td>\n",
       "      <td>0</td>\n",
       "      <td>Harm-related</td>\n",
       "      <td>Checking</td>\n",
       "      <td>17</td>\n",
       "      <td>10</td>\n",
       "      <td>1</td>\n",
       "      <td>1</td>\n",
       "      <td>SNRI</td>\n",
       "    </tr>\n",
       "    <tr>\n",
       "      <th>1</th>\n",
       "      <td>69</td>\n",
       "      <td>1</td>\n",
       "      <td>African</td>\n",
       "      <td>Divorced</td>\n",
       "      <td>2.0</td>\n",
       "      <td>2017-04-28</td>\n",
       "      <td>180</td>\n",
       "      <td>NaN</td>\n",
       "      <td>1</td>\n",
       "      <td>Harm-related</td>\n",
       "      <td>Washing</td>\n",
       "      <td>21</td>\n",
       "      <td>25</td>\n",
       "      <td>1</td>\n",
       "      <td>1</td>\n",
       "      <td>SSRI</td>\n",
       "    </tr>\n",
       "    <tr>\n",
       "      <th>2</th>\n",
       "      <td>57</td>\n",
       "      <td>1</td>\n",
       "      <td>Hispanic</td>\n",
       "      <td>Divorced</td>\n",
       "      <td>1.0</td>\n",
       "      <td>2018-02-02</td>\n",
       "      <td>173</td>\n",
       "      <td>MDD</td>\n",
       "      <td>0</td>\n",
       "      <td>Contamination</td>\n",
       "      <td>Checking</td>\n",
       "      <td>3</td>\n",
       "      <td>4</td>\n",
       "      <td>0</td>\n",
       "      <td>0</td>\n",
       "      <td>Benzodiazepine</td>\n",
       "    </tr>\n",
       "    <tr>\n",
       "      <th>3</th>\n",
       "      <td>27</td>\n",
       "      <td>0</td>\n",
       "      <td>Hispanic</td>\n",
       "      <td>Married</td>\n",
       "      <td>1.0</td>\n",
       "      <td>2014-08-25</td>\n",
       "      <td>126</td>\n",
       "      <td>PTSD</td>\n",
       "      <td>1</td>\n",
       "      <td>Symmetry</td>\n",
       "      <td>Washing</td>\n",
       "      <td>14</td>\n",
       "      <td>28</td>\n",
       "      <td>1</td>\n",
       "      <td>1</td>\n",
       "      <td>SSRI</td>\n",
       "    </tr>\n",
       "    <tr>\n",
       "      <th>4</th>\n",
       "      <td>56</td>\n",
       "      <td>0</td>\n",
       "      <td>Hispanic</td>\n",
       "      <td>Married</td>\n",
       "      <td>3.0</td>\n",
       "      <td>2022-02-20</td>\n",
       "      <td>168</td>\n",
       "      <td>PTSD</td>\n",
       "      <td>1</td>\n",
       "      <td>Hoarding</td>\n",
       "      <td>Ordering</td>\n",
       "      <td>39</td>\n",
       "      <td>18</td>\n",
       "      <td>0</td>\n",
       "      <td>0</td>\n",
       "      <td>NaN</td>\n",
       "    </tr>\n",
       "    <tr>\n",
       "      <th>...</th>\n",
       "      <td>...</td>\n",
       "      <td>...</td>\n",
       "      <td>...</td>\n",
       "      <td>...</td>\n",
       "      <td>...</td>\n",
       "      <td>...</td>\n",
       "      <td>...</td>\n",
       "      <td>...</td>\n",
       "      <td>...</td>\n",
       "      <td>...</td>\n",
       "      <td>...</td>\n",
       "      <td>...</td>\n",
       "      <td>...</td>\n",
       "      <td>...</td>\n",
       "      <td>...</td>\n",
       "      <td>...</td>\n",
       "    </tr>\n",
       "    <tr>\n",
       "      <th>1495</th>\n",
       "      <td>38</td>\n",
       "      <td>1</td>\n",
       "      <td>Hispanic</td>\n",
       "      <td>Divorced</td>\n",
       "      <td>1.0</td>\n",
       "      <td>2019-01-10</td>\n",
       "      <td>53</td>\n",
       "      <td>MDD</td>\n",
       "      <td>0</td>\n",
       "      <td>Contamination</td>\n",
       "      <td>Washing</td>\n",
       "      <td>21</td>\n",
       "      <td>33</td>\n",
       "      <td>1</td>\n",
       "      <td>1</td>\n",
       "      <td>SSRI</td>\n",
       "    </tr>\n",
       "    <tr>\n",
       "      <th>1496</th>\n",
       "      <td>19</td>\n",
       "      <td>0</td>\n",
       "      <td>Hispanic</td>\n",
       "      <td>Divorced</td>\n",
       "      <td>0.0</td>\n",
       "      <td>2022-09-14</td>\n",
       "      <td>160</td>\n",
       "      <td>GAD</td>\n",
       "      <td>1</td>\n",
       "      <td>Hoarding</td>\n",
       "      <td>Praying</td>\n",
       "      <td>25</td>\n",
       "      <td>16</td>\n",
       "      <td>1</td>\n",
       "      <td>1</td>\n",
       "      <td>SSRI</td>\n",
       "    </tr>\n",
       "    <tr>\n",
       "      <th>1497</th>\n",
       "      <td>40</td>\n",
       "      <td>1</td>\n",
       "      <td>Asian</td>\n",
       "      <td>Married</td>\n",
       "      <td>2.0</td>\n",
       "      <td>2018-03-13</td>\n",
       "      <td>100</td>\n",
       "      <td>NaN</td>\n",
       "      <td>1</td>\n",
       "      <td>Contamination</td>\n",
       "      <td>Counting</td>\n",
       "      <td>2</td>\n",
       "      <td>15</td>\n",
       "      <td>1</td>\n",
       "      <td>1</td>\n",
       "      <td>Benzodiazepine</td>\n",
       "    </tr>\n",
       "    <tr>\n",
       "      <th>1498</th>\n",
       "      <td>37</td>\n",
       "      <td>0</td>\n",
       "      <td>Caucasian</td>\n",
       "      <td>Married</td>\n",
       "      <td>2.0</td>\n",
       "      <td>2018-04-14</td>\n",
       "      <td>210</td>\n",
       "      <td>GAD</td>\n",
       "      <td>1</td>\n",
       "      <td>Contamination</td>\n",
       "      <td>Washing</td>\n",
       "      <td>16</td>\n",
       "      <td>7</td>\n",
       "      <td>1</td>\n",
       "      <td>0</td>\n",
       "      <td>Benzodiazepine</td>\n",
       "    </tr>\n",
       "    <tr>\n",
       "      <th>1499</th>\n",
       "      <td>18</td>\n",
       "      <td>1</td>\n",
       "      <td>Caucasian</td>\n",
       "      <td>Single</td>\n",
       "      <td>3.0</td>\n",
       "      <td>2020-12-23</td>\n",
       "      <td>91</td>\n",
       "      <td>NaN</td>\n",
       "      <td>1</td>\n",
       "      <td>Hoarding</td>\n",
       "      <td>Ordering</td>\n",
       "      <td>22</td>\n",
       "      <td>34</td>\n",
       "      <td>1</td>\n",
       "      <td>0</td>\n",
       "      <td>SNRI</td>\n",
       "    </tr>\n",
       "  </tbody>\n",
       "</table>\n",
       "<p>1500 rows × 16 columns</p>\n",
       "</div>"
      ],
      "text/plain": [
       "      age  gender  ethnicity marital_status  education_level  \\\n",
       "0      32       0    African         Single              2.0   \n",
       "1      69       1    African       Divorced              2.0   \n",
       "2      57       1   Hispanic       Divorced              1.0   \n",
       "3      27       0   Hispanic        Married              1.0   \n",
       "4      56       0   Hispanic        Married              3.0   \n",
       "...   ...     ...        ...            ...              ...   \n",
       "1495   38       1   Hispanic       Divorced              1.0   \n",
       "1496   19       0   Hispanic       Divorced              0.0   \n",
       "1497   40       1      Asian        Married              2.0   \n",
       "1498   37       0  Caucasian        Married              2.0   \n",
       "1499   18       1  Caucasian         Single              3.0   \n",
       "\n",
       "     ocd_diagnosis_date  duration_of_symptoms_months previous_diagnoses  \\\n",
       "0            2016-07-15                          203                MDD   \n",
       "1            2017-04-28                          180                NaN   \n",
       "2            2018-02-02                          173                MDD   \n",
       "3            2014-08-25                          126               PTSD   \n",
       "4            2022-02-20                          168               PTSD   \n",
       "...                 ...                          ...                ...   \n",
       "1495         2019-01-10                           53                MDD   \n",
       "1496         2022-09-14                          160                GAD   \n",
       "1497         2018-03-13                          100                NaN   \n",
       "1498         2018-04-14                          210                GAD   \n",
       "1499         2020-12-23                           91                NaN   \n",
       "\n",
       "      family_history_of_ocd obsession_type compulsion_type  \\\n",
       "0                         0   Harm-related        Checking   \n",
       "1                         1   Harm-related         Washing   \n",
       "2                         0  Contamination        Checking   \n",
       "3                         1       Symmetry         Washing   \n",
       "4                         1       Hoarding        Ordering   \n",
       "...                     ...            ...             ...   \n",
       "1495                      0  Contamination         Washing   \n",
       "1496                      1       Hoarding         Praying   \n",
       "1497                      1  Contamination        Counting   \n",
       "1498                      1  Contamination         Washing   \n",
       "1499                      1       Hoarding        Ordering   \n",
       "\n",
       "      y_bocs_score_obsessions  y_bocs_score_compulsions  depression_diagnosis  \\\n",
       "0                          17                        10                     1   \n",
       "1                          21                        25                     1   \n",
       "2                           3                         4                     0   \n",
       "3                          14                        28                     1   \n",
       "4                          39                        18                     0   \n",
       "...                       ...                       ...                   ...   \n",
       "1495                       21                        33                     1   \n",
       "1496                       25                        16                     1   \n",
       "1497                        2                        15                     1   \n",
       "1498                       16                         7                     1   \n",
       "1499                       22                        34                     1   \n",
       "\n",
       "      anxiety_diagnosis     medications  \n",
       "0                     1            SNRI  \n",
       "1                     1            SSRI  \n",
       "2                     0  Benzodiazepine  \n",
       "3                     1            SSRI  \n",
       "4                     0             NaN  \n",
       "...                 ...             ...  \n",
       "1495                  1            SSRI  \n",
       "1496                  1            SSRI  \n",
       "1497                  1  Benzodiazepine  \n",
       "1498                  0  Benzodiazepine  \n",
       "1499                  0            SNRI  \n",
       "\n",
       "[1500 rows x 16 columns]"
      ]
     },
     "execution_count": 365,
     "metadata": {},
     "output_type": "execute_result"
    }
   ],
   "source": [
    "ocd_patient_data"
   ]
  },
  {
   "cell_type": "markdown",
   "id": "ae84ce81",
   "metadata": {},
   "source": [
    "#### Let's begin with the effect of depression and anxiety on the duration of symptoms (in months) of patients with OCD "
   ]
  },
  {
   "cell_type": "markdown",
   "id": "ed53f45c",
   "metadata": {},
   "source": [
    "Do people that have only one - depression or anxiety have symptoms of OCD for longer (in months) or not?\n",
    "\n",
    "Do people that have both depression and anxiety have symptoms of OCD for longer than those who have neither?"
   ]
  },
  {
   "cell_type": "code",
   "execution_count": 366,
   "id": "58f54409",
   "metadata": {},
   "outputs": [],
   "source": [
    "# 0 for not having the diagnosis and 1 for having it\n",
    "def filter_by_conditions(df, depression = 0, anxiety = 0):\n",
    "    return df[\n",
    "        (df.depression_diagnosis == depression) &\n",
    "        (df.anxiety_diagnosis == anxiety)\n",
    "    ]"
   ]
  },
  {
   "cell_type": "code",
   "execution_count": 367,
   "id": "c5a2f90d",
   "metadata": {},
   "outputs": [],
   "source": [
    "ocd_depression = filter_by_conditions(ocd_patient_data, depression = 1)\n",
    "ocd_anxiety = filter_by_conditions(ocd_patient_data, anxiety = 1)\n",
    "ocd_both = filter_by_conditions(ocd_patient_data, depression = 1, anxiety = 1)\n",
    "ocd_neither = filter_by_conditions(ocd_patient_data)"
   ]
  },
  {
   "cell_type": "markdown",
   "id": "97c40c0f",
   "metadata": {},
   "source": [
    "Let's put them in collection"
   ]
  },
  {
   "cell_type": "code",
   "execution_count": 368,
   "id": "c09683dc",
   "metadata": {},
   "outputs": [],
   "source": [
    "groups = [ocd_depression, ocd_anxiety, ocd_both, ocd_neither]"
   ]
  },
  {
   "cell_type": "markdown",
   "id": "2734d4e3",
   "metadata": {},
   "source": [
    "Now before proceeding to testing the means, we need to check the distributions for normality"
   ]
  },
  {
   "cell_type": "code",
   "execution_count": 369,
   "id": "4cf46e0d",
   "metadata": {},
   "outputs": [
    {
     "data": {
      "text/plain": [
       "[400, 379, 372, 349]"
      ]
     },
     "execution_count": 369,
     "metadata": {},
     "output_type": "execute_result"
    }
   ],
   "source": [
    "[len(group) for group in groups]"
   ]
  },
  {
   "cell_type": "markdown",
   "id": "0890afe4",
   "metadata": {},
   "source": [
    "Since the size of the sets are small we can use the *Shapiro test*"
   ]
  },
  {
   "cell_type": "code",
   "execution_count": 370,
   "id": "1537485d",
   "metadata": {},
   "outputs": [
    {
     "name": "stdout",
     "output_type": "stream",
     "text": [
      "Shapiro-Wilk Test for 'duration_of_symptoms_months':\n",
      "Test Statistic = 0.9662\n",
      "p-value = 0.0000\n",
      "Result: Data is NOT normally distributed (reject H₀)\n",
      "\n",
      "Shapiro-Wilk Test for 'duration_of_symptoms_months':\n",
      "Test Statistic = 0.9421\n",
      "p-value = 0.0000\n",
      "Result: Data is NOT normally distributed (reject H₀)\n",
      "\n",
      "Shapiro-Wilk Test for 'duration_of_symptoms_months':\n",
      "Test Statistic = 0.9415\n",
      "p-value = 0.0000\n",
      "Result: Data is NOT normally distributed (reject H₀)\n",
      "\n",
      "Shapiro-Wilk Test for 'duration_of_symptoms_months':\n",
      "Test Statistic = 0.9651\n",
      "p-value = 0.0000\n",
      "Result: Data is NOT normally distributed (reject H₀)\n",
      "\n"
     ]
    },
    {
     "data": {
      "text/plain": [
       "[None, None, None, None]"
      ]
     },
     "execution_count": 370,
     "metadata": {},
     "output_type": "execute_result"
    }
   ],
   "source": [
    "[shapiro_test(group, \"duration_of_symptoms_months\") for group in groups]"
   ]
  },
  {
   "cell_type": "markdown",
   "id": "fc29d6fa",
   "metadata": {},
   "source": [
    "We see that the distributions of the data is not normal therefore neither *t-test* nor *ANOVA* can be used with them. This is why earlier we ceated the functions for *Mann-Whitney U* and *Kruskal-Wallis*"
   ]
  },
  {
   "cell_type": "markdown",
   "id": "440eae60",
   "metadata": {},
   "source": [
    "Let's begin by testing if patients with both deseases have something with patients that do not have."
   ]
  },
  {
   "cell_type": "markdown",
   "id": "59cfbd7e",
   "metadata": {},
   "source": [
    "But first, make a function that plots the categories"
   ]
  },
  {
   "cell_type": "code",
   "execution_count": 371,
   "id": "5dda76db",
   "metadata": {},
   "outputs": [],
   "source": [
    "def plot_group_hist(data1, data2, label1, label2, variable_name, title):\n",
    "    sns.set_theme(style=\"whitegrid\")\n",
    "    \n",
    "    plt.figure(figsize=(8, 5))\n",
    "    sns.histplot(data1, color=\"skyblue\", label=label1, kde=True, stat=\"density\", alpha=0.6)\n",
    "    sns.histplot(data2, color=\"salmon\", label=label2, kde=True, stat=\"density\", alpha=0.6)\n",
    "    \n",
    "    plt.title(title)\n",
    "    plt.xlabel(variable_name)\n",
    "    plt.ylabel(\"Density\")\n",
    "    plt.legend()\n",
    "    plt.show()"
   ]
  },
  {
   "cell_type": "markdown",
   "id": "cbffb60a",
   "metadata": {},
   "source": [
    "For these tests we are using the *Mann–Whitney U test*, because we compare two independent samples on a continuous variable and not having a normal distribution, in order to assess whether one group tends to have higher or lower values than the other."
   ]
  },
  {
   "cell_type": "code",
   "execution_count": 372,
   "id": "63d4a725",
   "metadata": {},
   "outputs": [
    {
     "data": {
      "image/png": "[encoded data removed]",
      "text/plain": [
       "<Figure size 800x500 with 1 Axes>"
      ]
     },
     "metadata": {},
     "output_type": "display_data"
    }
   ],
   "source": [
    "plot_group_hist(\n",
    "    ocd_neither[\"duration_of_symptoms_months\"],\n",
    "    ocd_both[\"duration_of_symptoms_months\"],\n",
    "    \"Neither disorder\", \"Both disorders\",\n",
    "    \"Duration of symptoms (months)\",\n",
    "    \"Distribution: Neither disorder vs Both disorders\"\n",
    ")"
   ]
  },
  {
   "cell_type": "code",
   "execution_count": 373,
   "id": "66304834",
   "metadata": {},
   "outputs": [],
   "source": [
    "stat, p = st.mannwhitneyu(\n",
    "    ocd_neither[\"duration_of_symptoms_months\"],\n",
    "    ocd_both[\"duration_of_symptoms_months\"],\n",
    "    alternative='two-sided'\n",
    ")"
   ]
  },
  {
   "cell_type": "code",
   "execution_count": 374,
   "id": "81fcbb74",
   "metadata": {},
   "outputs": [
    {
     "name": "stdout",
     "output_type": "stream",
     "text": [
      "Neither vs Both: U=68445.0, p=0.2065072102349973\n"
     ]
    }
   ],
   "source": [
    "print(f\"Neither vs Both: U={stat}, p={p}\")"
   ]
  },
  {
   "cell_type": "markdown",
   "id": "1b38f82d",
   "metadata": {},
   "source": [
    "The *Mann–Whitney U* test indicated no statistically significant difference in symptom duration between the *Neither* disorder group and the *Both* disorders group (U = 68445.0, p = 0.207). "
   ]
  },
  {
   "cell_type": "code",
   "execution_count": 375,
   "id": "e9c17cbb",
   "metadata": {},
   "outputs": [
    {
     "data": {
      "image/png": "[encoded data removed]",
      "text/plain": [
       "<Figure size 800x500 with 1 Axes>"
      ]
     },
     "metadata": {},
     "output_type": "display_data"
    }
   ],
   "source": [
    "plot_group_hist(\n",
    "    ocd_depression[\"duration_of_symptoms_months\"],\n",
    "    ocd_anxiety[\"duration_of_symptoms_months\"],\n",
    "    \"Depression only\", \"Anxiety only\",\n",
    "    \"Duration of symptoms (months)\",\n",
    "    \"Distribution: Depression only vs Anxiety only\"\n",
    ")"
   ]
  },
  {
   "cell_type": "code",
   "execution_count": 376,
   "id": "97aad698",
   "metadata": {},
   "outputs": [],
   "source": [
    "stat, p = st.mannwhitneyu(\n",
    "    ocd_depression[\"duration_of_symptoms_months\"],\n",
    "    ocd_anxiety[\"duration_of_symptoms_months\"],\n",
    "    alternative='two-sided'\n",
    ")"
   ]
  },
  {
   "cell_type": "code",
   "execution_count": 377,
   "id": "ec7a658b",
   "metadata": {},
   "outputs": [
    {
     "name": "stdout",
     "output_type": "stream",
     "text": [
      "Depression vs Anxiety: U=80340.5, p=0.14809424749353214\n"
     ]
    }
   ],
   "source": [
    "print(f\"Depression vs Anxiety: U={stat}, p={p}\")"
   ]
  },
  {
   "cell_type": "markdown",
   "id": "3e232abf",
   "metadata": {},
   "source": [
    "The *Mann–Whitney U* test indicated no statistically significant difference in symptom duration between the *Depression* only group and the *Anxiety* only group (U = 80340.5, p = 0.148). "
   ]
  },
  {
   "cell_type": "markdown",
   "id": "1c940935",
   "metadata": {},
   "source": [
    "Because the p-value is greater than the conventional *alpha level* of 0.05, we fail to reject the null hypothesis for both tests, meaning the observed difference in the sample is likely due to random variation rather than a true difference in the populations."
   ]
  },
  {
   "cell_type": "markdown",
   "id": "54318798",
   "metadata": {},
   "source": [
    "#### Another interesting question is if the obsession or compulsion Y-BOCS Scores reflect on the obsession or compulsion type"
   ]
  },
  {
   "cell_type": "markdown",
   "id": "7d57b50f",
   "metadata": {},
   "source": [
    "*The Yale–Brown Obsessive–Compulsive Scale (Y‑BOCS) is a clinician‑administered assessment used to measure the severity of obsessive and compulsive symptoms in individuals with OCD.*"
   ]
  },
  {
   "cell_type": "markdown",
   "id": "a9dbcaa3",
   "metadata": {},
   "source": [
    "For these tests we are using the Kruskal–Wallis H test, because we compare three or more independent groups on an ordinal or continuous variable without assuming a normal distribution, in order to assess whether at least one group differs significantly in its distribution from the others."
   ]
  },
  {
   "cell_type": "markdown",
   "id": "1e522486",
   "metadata": {},
   "source": [
    "To begin with, we'll again need to group the data"
   ]
  },
  {
   "cell_type": "code",
   "execution_count": 378,
   "id": "ecb1831d",
   "metadata": {},
   "outputs": [],
   "source": [
    "def extract_scores_by_group(df, group_col, score_col):\n",
    "    return [\n",
    "        group[score_col].dropna().values\n",
    "        for _, group in df.groupby(group_col)\n",
    "    ]"
   ]
  },
  {
   "cell_type": "code",
   "execution_count": 379,
   "id": "9eda526d",
   "metadata": {},
   "outputs": [],
   "source": [
    "obsession_groups = extract_scores_by_group(\n",
    "    df = ocd_patient_data,\n",
    "    group_col = \"obsession_type\",\n",
    "    score_col = \"y_bocs_score_obsessions\"\n",
    ")"
   ]
  },
  {
   "cell_type": "code",
   "execution_count": 380,
   "id": "7f852d70",
   "metadata": {},
   "outputs": [],
   "source": [
    "compulsions_groups = extract_scores_by_group(\n",
    "    df = ocd_patient_data,\n",
    "    group_col = \"compulsion_type\",\n",
    "    score_col = \"y_bocs_score_compulsions\"\n",
    ")"
   ]
  },
  {
   "cell_type": "markdown",
   "id": "115c54f5",
   "metadata": {},
   "source": [
    "But first, make a function that plots the categories"
   ]
  },
  {
   "cell_type": "code",
   "execution_count": 381,
   "id": "63c3120a",
   "metadata": {},
   "outputs": [],
   "source": [
    "def plot_violin_scores_by_group(df, group_col, score_col, title=None, figsize=(10, 6), palette=\"Set2\"):\n",
    "    plt.figure(figsize=figsize)\n",
    "\n",
    "    sns.violinplot(\n",
    "        data=df,\n",
    "        x=group_col,\n",
    "        y=score_col,\n",
    "        hue=group_col,\n",
    "        palette=palette,\n",
    "        inner=\"box\",\n",
    "        cut=0,\n",
    "        legend=False,\n",
    "    )\n",
    "\n",
    "    plt.xticks()\n",
    "    plt.title(title or f\"Violin Plot of {score_col} by {group_col}\")\n",
    "    plt.tight_layout()\n",
    "\n",
    "    plt.show()"
   ]
  },
  {
   "cell_type": "markdown",
   "id": "17cdec0d",
   "metadata": {},
   "source": [
    "Let's begin with the *Obsessions*"
   ]
  },
  {
   "cell_type": "code",
   "execution_count": 382,
   "id": "dd42ae2a",
   "metadata": {},
   "outputs": [
    {
     "data": {
      "image/png": "[encoded data removed]",
      "text/plain": [
       "<Figure size 1000x600 with 1 Axes>"
      ]
     },
     "metadata": {},
     "output_type": "display_data"
    }
   ],
   "source": [
    "plot_violin_scores_by_group(\n",
    "    df=ocd_patient_data,\n",
    "    group_col=\"obsession_type\",\n",
    "    score_col=\"y_bocs_score_obsessions\",\n",
    "    title=\"Distribution of Compulsions by Y-BOCS\"\n",
    ")"
   ]
  },
  {
   "cell_type": "code",
   "execution_count": 383,
   "id": "e803a987",
   "metadata": {},
   "outputs": [],
   "source": [
    "obsession_stat, obsession_p = st.kruskal(*obsession_groups)"
   ]
  },
  {
   "cell_type": "code",
   "execution_count": 384,
   "id": "9e10bd8b",
   "metadata": {},
   "outputs": [
    {
     "name": "stdout",
     "output_type": "stream",
     "text": [
      "Compulsions: H=4.769, p=0.312\n"
     ]
    }
   ],
   "source": [
    "print(f\"Compulsions: H={obsession_stat:.3f}, p={obsession_p:.3f}\")"
   ]
  },
  {
   "cell_type": "markdown",
   "id": "d4352223",
   "metadata": {},
   "source": [
    "The *Kruskal–Wallis H* test showed no statistically significant difference in Y‑BOCS obsession scores across the different obsession types (H = 4.769, p = 0.312).\n",
    "Because the p‑value is greater than the conventional alpha level of 0.05, we fail to reject the null hypothesis, indicating that any observed differences in median scores between obsession types are likely due to random variation rather than true differences in the population."
   ]
  },
  {
   "cell_type": "markdown",
   "id": "bd6e3d9f",
   "metadata": {},
   "source": [
    "What about the *Compulsions*?"
   ]
  },
  {
   "cell_type": "code",
   "execution_count": 385,
   "id": "550f7155",
   "metadata": {},
   "outputs": [
    {
     "data": {
      "image/png": "[encoded data removed]",
      "text/plain": [
       "<Figure size 1000x600 with 1 Axes>"
      ]
     },
     "metadata": {},
     "output_type": "display_data"
    }
   ],
   "source": [
    "plot_violin_scores_by_group(\n",
    "    df=ocd_patient_data,\n",
    "    group_col=\"compulsion_type\",\n",
    "    score_col=\"y_bocs_score_compulsions\",\n",
    "    title=\"Distribution of Obsessions by Y-BOCS\"\n",
    ")"
   ]
  },
  {
   "cell_type": "code",
   "execution_count": 386,
   "id": "cabc5363",
   "metadata": {},
   "outputs": [],
   "source": [
    "compulsion_stat, compulsion_p = st.kruskal(*compulsions_groups)"
   ]
  },
  {
   "cell_type": "code",
   "execution_count": 387,
   "id": "3a2d6591",
   "metadata": {},
   "outputs": [
    {
     "name": "stdout",
     "output_type": "stream",
     "text": [
      "Compulsions: H=9.383, p=0.052\n"
     ]
    }
   ],
   "source": [
    "print(f\"Compulsions: H={compulsion_stat:.3f}, p={compulsion_p:.3f}\")"
   ]
  },
  {
   "cell_type": "markdown",
   "id": "52c022da",
   "metadata": {},
   "source": [
    "The *Kruskal–Wallis H* test indicated a difference in Y‑BOCS compulsion scores across compulsion types that approached, but did not reach, statistical significance (H = 9.383, p = 0.052).\n",
    "Since the p‑value is slightly above 0.05, we cannot reject the null hypothesis at the 5% significance level, although the result suggests a possible trend toward differences that might warrant further investigation with a larger sample or more statistical power."
   ]
  },
  {
   "cell_type": "markdown",
   "id": "ad61633a",
   "metadata": {},
   "source": [
    "## Predicting a person's anxiety level (1 - 10) using Multiple Linear Regression"
   ]
  },
  {
   "cell_type": "markdown",
   "id": "db34ed70",
   "metadata": {},
   "source": [
    "We've already cleaned the dataset. However, in order to do *Multiple Linear Regression*, we need to transform all nominal data. We will be using *one-hot-encoding*"
   ]
  },
  {
   "cell_type": "markdown",
   "id": "2831eb5e",
   "metadata": {},
   "source": [
    "Let's take a look at the data once more"
   ]
  },
  {
   "cell_type": "code",
   "execution_count": 397,
   "id": "eba027a1",
   "metadata": {},
   "outputs": [
    {
     "data": {
      "text/html": [
       "<div>\n",
       "<style scoped>\n",
       "    .dataframe tbody tr th:only-of-type {\n",
       "        vertical-align: middle;\n",
       "    }\n",
       "\n",
       "    .dataframe tbody tr th {\n",
       "        vertical-align: top;\n",
       "    }\n",
       "\n",
       "    .dataframe thead th {\n",
       "        text-align: right;\n",
       "    }\n",
       "</style>\n",
       "<table border=\"1\" class=\"dataframe\">\n",
       "  <thead>\n",
       "    <tr style=\"text-align: right;\">\n",
       "      <th></th>\n",
       "      <th>age</th>\n",
       "      <th>gender</th>\n",
       "      <th>occupation</th>\n",
       "      <th>sleep_hours</th>\n",
       "      <th>physical_activity_hrs_week</th>\n",
       "      <th>caffeine_intake_mg_day</th>\n",
       "      <th>alcohol_consumption_drinks_week</th>\n",
       "      <th>smoking</th>\n",
       "      <th>family_history_of_anxiety</th>\n",
       "      <th>stress_level_1_10</th>\n",
       "      <th>heart_rate_bpm</th>\n",
       "      <th>breathing_rate_breaths_min</th>\n",
       "      <th>sweating_level_1_5</th>\n",
       "      <th>dizziness</th>\n",
       "      <th>medication</th>\n",
       "      <th>therapy_sessions_per_month</th>\n",
       "      <th>recent_major_life_event</th>\n",
       "      <th>diet_quality_1_10</th>\n",
       "      <th>anxiety_level_1_10</th>\n",
       "    </tr>\n",
       "  </thead>\n",
       "  <tbody>\n",
       "    <tr>\n",
       "      <th>0</th>\n",
       "      <td>29</td>\n",
       "      <td>Female</td>\n",
       "      <td>Artist</td>\n",
       "      <td>6.0</td>\n",
       "      <td>2.7</td>\n",
       "      <td>181</td>\n",
       "      <td>10</td>\n",
       "      <td>1</td>\n",
       "      <td>0</td>\n",
       "      <td>10</td>\n",
       "      <td>114</td>\n",
       "      <td>14</td>\n",
       "      <td>4</td>\n",
       "      <td>0</td>\n",
       "      <td>1</td>\n",
       "      <td>3</td>\n",
       "      <td>1</td>\n",
       "      <td>7</td>\n",
       "      <td>5.0</td>\n",
       "    </tr>\n",
       "    <tr>\n",
       "      <th>1</th>\n",
       "      <td>46</td>\n",
       "      <td>Other</td>\n",
       "      <td>Nurse</td>\n",
       "      <td>6.2</td>\n",
       "      <td>5.7</td>\n",
       "      <td>200</td>\n",
       "      <td>8</td>\n",
       "      <td>1</td>\n",
       "      <td>1</td>\n",
       "      <td>1</td>\n",
       "      <td>62</td>\n",
       "      <td>23</td>\n",
       "      <td>2</td>\n",
       "      <td>1</td>\n",
       "      <td>0</td>\n",
       "      <td>2</td>\n",
       "      <td>0</td>\n",
       "      <td>8</td>\n",
       "      <td>3.0</td>\n",
       "    </tr>\n",
       "    <tr>\n",
       "      <th>2</th>\n",
       "      <td>64</td>\n",
       "      <td>Male</td>\n",
       "      <td>Other</td>\n",
       "      <td>5.0</td>\n",
       "      <td>3.7</td>\n",
       "      <td>117</td>\n",
       "      <td>4</td>\n",
       "      <td>0</td>\n",
       "      <td>1</td>\n",
       "      <td>1</td>\n",
       "      <td>91</td>\n",
       "      <td>28</td>\n",
       "      <td>3</td>\n",
       "      <td>0</td>\n",
       "      <td>0</td>\n",
       "      <td>1</td>\n",
       "      <td>1</td>\n",
       "      <td>1</td>\n",
       "      <td>1.0</td>\n",
       "    </tr>\n",
       "    <tr>\n",
       "      <th>3</th>\n",
       "      <td>20</td>\n",
       "      <td>Female</td>\n",
       "      <td>Scientist</td>\n",
       "      <td>5.8</td>\n",
       "      <td>2.8</td>\n",
       "      <td>360</td>\n",
       "      <td>6</td>\n",
       "      <td>1</td>\n",
       "      <td>0</td>\n",
       "      <td>4</td>\n",
       "      <td>86</td>\n",
       "      <td>17</td>\n",
       "      <td>3</td>\n",
       "      <td>0</td>\n",
       "      <td>0</td>\n",
       "      <td>0</td>\n",
       "      <td>0</td>\n",
       "      <td>1</td>\n",
       "      <td>2.0</td>\n",
       "    </tr>\n",
       "    <tr>\n",
       "      <th>4</th>\n",
       "      <td>49</td>\n",
       "      <td>Female</td>\n",
       "      <td>Other</td>\n",
       "      <td>8.2</td>\n",
       "      <td>2.3</td>\n",
       "      <td>247</td>\n",
       "      <td>4</td>\n",
       "      <td>1</td>\n",
       "      <td>0</td>\n",
       "      <td>1</td>\n",
       "      <td>98</td>\n",
       "      <td>19</td>\n",
       "      <td>4</td>\n",
       "      <td>1</td>\n",
       "      <td>1</td>\n",
       "      <td>1</td>\n",
       "      <td>0</td>\n",
       "      <td>3</td>\n",
       "      <td>1.0</td>\n",
       "    </tr>\n",
       "    <tr>\n",
       "      <th>...</th>\n",
       "      <td>...</td>\n",
       "      <td>...</td>\n",
       "      <td>...</td>\n",
       "      <td>...</td>\n",
       "      <td>...</td>\n",
       "      <td>...</td>\n",
       "      <td>...</td>\n",
       "      <td>...</td>\n",
       "      <td>...</td>\n",
       "      <td>...</td>\n",
       "      <td>...</td>\n",
       "      <td>...</td>\n",
       "      <td>...</td>\n",
       "      <td>...</td>\n",
       "      <td>...</td>\n",
       "      <td>...</td>\n",
       "      <td>...</td>\n",
       "      <td>...</td>\n",
       "      <td>...</td>\n",
       "    </tr>\n",
       "    <tr>\n",
       "      <th>10995</th>\n",
       "      <td>23</td>\n",
       "      <td>Female</td>\n",
       "      <td>Engineer</td>\n",
       "      <td>6.1</td>\n",
       "      <td>3.1</td>\n",
       "      <td>566</td>\n",
       "      <td>9</td>\n",
       "      <td>1</td>\n",
       "      <td>0</td>\n",
       "      <td>8</td>\n",
       "      <td>91</td>\n",
       "      <td>28</td>\n",
       "      <td>1</td>\n",
       "      <td>1</td>\n",
       "      <td>1</td>\n",
       "      <td>1</td>\n",
       "      <td>0</td>\n",
       "      <td>3</td>\n",
       "      <td>6.0</td>\n",
       "    </tr>\n",
       "    <tr>\n",
       "      <th>10996</th>\n",
       "      <td>50</td>\n",
       "      <td>Other</td>\n",
       "      <td>Teacher</td>\n",
       "      <td>6.6</td>\n",
       "      <td>3.6</td>\n",
       "      <td>64</td>\n",
       "      <td>17</td>\n",
       "      <td>1</td>\n",
       "      <td>0</td>\n",
       "      <td>7</td>\n",
       "      <td>95</td>\n",
       "      <td>17</td>\n",
       "      <td>3</td>\n",
       "      <td>0</td>\n",
       "      <td>0</td>\n",
       "      <td>2</td>\n",
       "      <td>0</td>\n",
       "      <td>7</td>\n",
       "      <td>3.0</td>\n",
       "    </tr>\n",
       "    <tr>\n",
       "      <th>10997</th>\n",
       "      <td>29</td>\n",
       "      <td>Male</td>\n",
       "      <td>Nurse</td>\n",
       "      <td>6.7</td>\n",
       "      <td>6.9</td>\n",
       "      <td>159</td>\n",
       "      <td>14</td>\n",
       "      <td>0</td>\n",
       "      <td>0</td>\n",
       "      <td>8</td>\n",
       "      <td>72</td>\n",
       "      <td>16</td>\n",
       "      <td>1</td>\n",
       "      <td>1</td>\n",
       "      <td>1</td>\n",
       "      <td>2</td>\n",
       "      <td>1</td>\n",
       "      <td>7</td>\n",
       "      <td>4.0</td>\n",
       "    </tr>\n",
       "    <tr>\n",
       "      <th>10998</th>\n",
       "      <td>53</td>\n",
       "      <td>Other</td>\n",
       "      <td>Artist</td>\n",
       "      <td>5.7</td>\n",
       "      <td>2.7</td>\n",
       "      <td>248</td>\n",
       "      <td>8</td>\n",
       "      <td>0</td>\n",
       "      <td>0</td>\n",
       "      <td>4</td>\n",
       "      <td>112</td>\n",
       "      <td>28</td>\n",
       "      <td>3</td>\n",
       "      <td>1</td>\n",
       "      <td>1</td>\n",
       "      <td>1</td>\n",
       "      <td>1</td>\n",
       "      <td>2</td>\n",
       "      <td>4.0</td>\n",
       "    </tr>\n",
       "    <tr>\n",
       "      <th>10999</th>\n",
       "      <td>56</td>\n",
       "      <td>Other</td>\n",
       "      <td>Teacher</td>\n",
       "      <td>6.1</td>\n",
       "      <td>1.1</td>\n",
       "      <td>205</td>\n",
       "      <td>11</td>\n",
       "      <td>0</td>\n",
       "      <td>0</td>\n",
       "      <td>1</td>\n",
       "      <td>66</td>\n",
       "      <td>13</td>\n",
       "      <td>3</td>\n",
       "      <td>0</td>\n",
       "      <td>0</td>\n",
       "      <td>2</td>\n",
       "      <td>1</td>\n",
       "      <td>8</td>\n",
       "      <td>2.0</td>\n",
       "    </tr>\n",
       "  </tbody>\n",
       "</table>\n",
       "<p>11000 rows × 19 columns</p>\n",
       "</div>"
      ],
      "text/plain": [
       "       age  gender occupation  sleep_hours  physical_activity_hrs_week  \\\n",
       "0       29  Female     Artist          6.0                         2.7   \n",
       "1       46   Other      Nurse          6.2                         5.7   \n",
       "2       64    Male      Other          5.0                         3.7   \n",
       "3       20  Female  Scientist          5.8                         2.8   \n",
       "4       49  Female      Other          8.2                         2.3   \n",
       "...    ...     ...        ...          ...                         ...   \n",
       "10995   23  Female   Engineer          6.1                         3.1   \n",
       "10996   50   Other    Teacher          6.6                         3.6   \n",
       "10997   29    Male      Nurse          6.7                         6.9   \n",
       "10998   53   Other     Artist          5.7                         2.7   \n",
       "10999   56   Other    Teacher          6.1                         1.1   \n",
       "\n",
       "       caffeine_intake_mg_day  alcohol_consumption_drinks_week  smoking  \\\n",
       "0                         181                               10        1   \n",
       "1                         200                                8        1   \n",
       "2                         117                                4        0   \n",
       "3                         360                                6        1   \n",
       "4                         247                                4        1   \n",
       "...                       ...                              ...      ...   \n",
       "10995                     566                                9        1   \n",
       "10996                      64                               17        1   \n",
       "10997                     159                               14        0   \n",
       "10998                     248                                8        0   \n",
       "10999                     205                               11        0   \n",
       "\n",
       "       family_history_of_anxiety  stress_level_1_10  heart_rate_bpm  \\\n",
       "0                              0                 10             114   \n",
       "1                              1                  1              62   \n",
       "2                              1                  1              91   \n",
       "3                              0                  4              86   \n",
       "4                              0                  1              98   \n",
       "...                          ...                ...             ...   \n",
       "10995                          0                  8              91   \n",
       "10996                          0                  7              95   \n",
       "10997                          0                  8              72   \n",
       "10998                          0                  4             112   \n",
       "10999                          0                  1              66   \n",
       "\n",
       "       breathing_rate_breaths_min  sweating_level_1_5  dizziness  medication  \\\n",
       "0                              14                   4          0           1   \n",
       "1                              23                   2          1           0   \n",
       "2                              28                   3          0           0   \n",
       "3                              17                   3          0           0   \n",
       "4                              19                   4          1           1   \n",
       "...                           ...                 ...        ...         ...   \n",
       "10995                          28                   1          1           1   \n",
       "10996                          17                   3          0           0   \n",
       "10997                          16                   1          1           1   \n",
       "10998                          28                   3          1           1   \n",
       "10999                          13                   3          0           0   \n",
       "\n",
       "       therapy_sessions_per_month  recent_major_life_event  diet_quality_1_10  \\\n",
       "0                               3                        1                  7   \n",
       "1                               2                        0                  8   \n",
       "2                               1                        1                  1   \n",
       "3                               0                        0                  1   \n",
       "4                               1                        0                  3   \n",
       "...                           ...                      ...                ...   \n",
       "10995                           1                        0                  3   \n",
       "10996                           2                        0                  7   \n",
       "10997                           2                        1                  7   \n",
       "10998                           1                        1                  2   \n",
       "10999                           2                        1                  8   \n",
       "\n",
       "       anxiety_level_1_10  \n",
       "0                     5.0  \n",
       "1                     3.0  \n",
       "2                     1.0  \n",
       "3                     2.0  \n",
       "4                     1.0  \n",
       "...                   ...  \n",
       "10995                 6.0  \n",
       "10996                 3.0  \n",
       "10997                 4.0  \n",
       "10998                 4.0  \n",
       "10999                 2.0  \n",
       "\n",
       "[11000 rows x 19 columns]"
      ]
     },
     "execution_count": 397,
     "metadata": {},
     "output_type": "execute_result"
    }
   ],
   "source": [
    "enhanced_anxiety_data"
   ]
  },
  {
   "cell_type": "markdown",
   "id": "3e400930",
   "metadata": {},
   "source": [
    "Let's pick our target - *anxiety_level_1_10*"
   ]
  },
  {
   "cell_type": "code",
   "execution_count": 398,
   "id": "235bf687",
   "metadata": {},
   "outputs": [],
   "source": [
    "target = enhanced_anxiety_data.anxiety_level_1_10"
   ]
  },
  {
   "cell_type": "markdown",
   "id": "b6848c31",
   "metadata": {},
   "source": [
    "And then proceed by creating a features set - predictors"
   ]
  },
  {
   "cell_type": "code",
   "execution_count": 399,
   "id": "5783b004",
   "metadata": {},
   "outputs": [],
   "source": [
    "features = enhanced_anxiety_data[\n",
    "    [\n",
    "        \"age\",\n",
    "        \"sleep_hours\",\n",
    "        \"physical_activity_hrs_week\",\n",
    "        \"caffeine_intake_mg_day\",\n",
    "        \"alcohol_consumption_drinks_week\",\n",
    "        \"smoking\",\n",
    "        \"family_history_of_anxiety\",\n",
    "        \"stress_level_1_10\",\n",
    "        \"heart_rate_bpm\",\n",
    "        \"breathing_rate_breaths_min\",\n",
    "        \"sweating_level_1_5\",\n",
    "        \"dizziness\",\n",
    "        \"medication\",\n",
    "        \"therapy_sessions_per_month\",\n",
    "        \"recent_major_life_event\",\n",
    "        \"diet_quality_1_10\"\n",
    "    ]\n",
    "]"
   ]
  },
  {
   "cell_type": "markdown",
   "id": "15a799bc",
   "metadata": {},
   "source": [
    "Split the dataset into training (80%) and testing (20%) sets, random_state ensures reproducible results"
   ]
  },
  {
   "cell_type": "code",
   "execution_count": 400,
   "id": "f6d3f1e3",
   "metadata": {},
   "outputs": [],
   "source": [
    "X_train, X_test, y_train, y_test = train_test_split(features, target, test_size=0.2, random_state=42)"
   ]
  },
  {
   "cell_type": "markdown",
   "id": "00bf53f2",
   "metadata": {},
   "source": [
    "Multiple Linear Regression model and fits it to the training data *(X_train, y_train)* to learn the best-fit coefficients for all input features"
   ]
  },
  {
   "cell_type": "code",
   "execution_count": 401,
   "id": "3592e088",
   "metadata": {},
   "outputs": [
    {
     "data": {
      "text/html": [
       "<style>#sk-container-id-4 {\n",
       "  /* Definition of color scheme common for light and dark mode */\n",
       "  --sklearn-color-text: #000;\n",
       "  --sklearn-color-text-muted: #666;\n",
       "  --sklearn-color-line: gray;\n",
       "  /* Definition of color scheme for unfitted estimators */\n",
       "  --sklearn-color-unfitted-level-0: #fff5e6;\n",
       "  --sklearn-color-unfitted-level-1: #f6e4d2;\n",
       "  --sklearn-color-unfitted-level-2: #ffe0b3;\n",
       "  --sklearn-color-unfitted-level-3: chocolate;\n",
       "  /* Definition of color scheme for fitted estimators */\n",
       "  --sklearn-color-fitted-level-0: #f0f8ff;\n",
       "  --sklearn-color-fitted-level-1: #d4ebff;\n",
       "  --sklearn-color-fitted-level-2: #b3dbfd;\n",
       "  --sklearn-color-fitted-level-3: cornflowerblue;\n",
       "\n",
       "  /* Specific color for light theme */\n",
       "  --sklearn-color-text-on-default-background: var(--sg-text-color, var(--theme-code-foreground, var(--jp-content-font-color1, black)));\n",
       "  --sklearn-color-background: var(--sg-background-color, var(--theme-background, var(--jp-layout-color0, white)));\n",
       "  --sklearn-color-border-box: var(--sg-text-color, var(--theme-code-foreground, var(--jp-content-font-color1, black)));\n",
       "  --sklearn-color-icon: #696969;\n",
       "\n",
       "  @media (prefers-color-scheme: dark) {\n",
       "    /* Redefinition of color scheme for dark theme */\n",
       "    --sklearn-color-text-on-default-background: var(--sg-text-color, var(--theme-code-foreground, var(--jp-content-font-color1, white)));\n",
       "    --sklearn-color-background: var(--sg-background-color, var(--theme-background, var(--jp-layout-color0, #111)));\n",
       "    --sklearn-color-border-box: var(--sg-text-color, var(--theme-code-foreground, var(--jp-content-font-color1, white)));\n",
       "    --sklearn-color-icon: #878787;\n",
       "  }\n",
       "}\n",
       "\n",
       "#sk-container-id-4 {\n",
       "  color: var(--sklearn-color-text);\n",
       "}\n",
       "\n",
       "#sk-container-id-4 pre {\n",
       "  padding: 0;\n",
       "}\n",
       "\n",
       "#sk-container-id-4 input.sk-hidden--visually {\n",
       "  border: 0;\n",
       "  clip: rect(1px 1px 1px 1px);\n",
       "  clip: rect(1px, 1px, 1px, 1px);\n",
       "  height: 1px;\n",
       "  margin: -1px;\n",
       "  overflow: hidden;\n",
       "  padding: 0;\n",
       "  position: absolute;\n",
       "  width: 1px;\n",
       "}\n",
       "\n",
       "#sk-container-id-4 div.sk-dashed-wrapped {\n",
       "  border: 1px dashed var(--sklearn-color-line);\n",
       "  margin: 0 0.4em 0.5em 0.4em;\n",
       "  box-sizing: border-box;\n",
       "  padding-bottom: 0.4em;\n",
       "  background-color: var(--sklearn-color-background);\n",
       "}\n",
       "\n",
       "#sk-container-id-4 div.sk-container {\n",
       "  /* jupyter's `normalize.less` sets `[hidden] { display: none; }`\n",
       "     but bootstrap.min.css set `[hidden] { display: none !important; }`\n",
       "     so we also need the `!important` here to be able to override the\n",
       "     default hidden behavior on the sphinx rendered scikit-learn.org.\n",
       "     See: https://github.com/scikit-learn/scikit-learn/issues/21755 */\n",
       "  display: inline-block !important;\n",
       "  position: relative;\n",
       "}\n",
       "\n",
       "#sk-container-id-4 div.sk-text-repr-fallback {\n",
       "  display: none;\n",
       "}\n",
       "\n",
       "div.sk-parallel-item,\n",
       "div.sk-serial,\n",
       "div.sk-item {\n",
       "  /* draw centered vertical line to link estimators */\n",
       "  background-image: linear-gradient(var(--sklearn-color-text-on-default-background), var(--sklearn-color-text-on-default-background));\n",
       "  background-size: 2px 100%;\n",
       "  background-repeat: no-repeat;\n",
       "  background-position: center center;\n",
       "}\n",
       "\n",
       "/* Parallel-specific style estimator block */\n",
       "\n",
       "#sk-container-id-4 div.sk-parallel-item::after {\n",
       "  content: \"\";\n",
       "  width: 100%;\n",
       "  border-bottom: 2px solid var(--sklearn-color-text-on-default-background);\n",
       "  flex-grow: 1;\n",
       "}\n",
       "\n",
       "#sk-container-id-4 div.sk-parallel {\n",
       "  display: flex;\n",
       "  align-items: stretch;\n",
       "  justify-content: center;\n",
       "  background-color: var(--sklearn-color-background);\n",
       "  position: relative;\n",
       "}\n",
       "\n",
       "#sk-container-id-4 div.sk-parallel-item {\n",
       "  display: flex;\n",
       "  flex-direction: column;\n",
       "}\n",
       "\n",
       "#sk-container-id-4 div.sk-parallel-item:first-child::after {\n",
       "  align-self: flex-end;\n",
       "  width: 50%;\n",
       "}\n",
       "\n",
       "#sk-container-id-4 div.sk-parallel-item:last-child::after {\n",
       "  align-self: flex-start;\n",
       "  width: 50%;\n",
       "}\n",
       "\n",
       "#sk-container-id-4 div.sk-parallel-item:only-child::after {\n",
       "  width: 0;\n",
       "}\n",
       "\n",
       "/* Serial-specific style estimator block */\n",
       "\n",
       "#sk-container-id-4 div.sk-serial {\n",
       "  display: flex;\n",
       "  flex-direction: column;\n",
       "  align-items: center;\n",
       "  background-color: var(--sklearn-color-background);\n",
       "  padding-right: 1em;\n",
       "  padding-left: 1em;\n",
       "}\n",
       "\n",
       "\n",
       "/* Toggleable style: style used for estimator/Pipeline/ColumnTransformer box that is\n",
       "clickable and can be expanded/collapsed.\n",
       "- Pipeline and ColumnTransformer use this feature and define the default style\n",
       "- Estimators will overwrite some part of the style using the `sk-estimator` class\n",
       "*/\n",
       "\n",
       "/* Pipeline and ColumnTransformer style (default) */\n",
       "\n",
       "#sk-container-id-4 div.sk-toggleable {\n",
       "  /* Default theme specific background. It is overwritten whether we have a\n",
       "  specific estimator or a Pipeline/ColumnTransformer */\n",
       "  background-color: var(--sklearn-color-background);\n",
       "}\n",
       "\n",
       "/* Toggleable label */\n",
       "#sk-container-id-4 label.sk-toggleable__label {\n",
       "  cursor: pointer;\n",
       "  display: flex;\n",
       "  width: 100%;\n",
       "  margin-bottom: 0;\n",
       "  padding: 0.5em;\n",
       "  box-sizing: border-box;\n",
       "  text-align: center;\n",
       "  align-items: start;\n",
       "  justify-content: space-between;\n",
       "  gap: 0.5em;\n",
       "}\n",
       "\n",
       "#sk-container-id-4 label.sk-toggleable__label .caption {\n",
       "  font-size: 0.6rem;\n",
       "  font-weight: lighter;\n",
       "  color: var(--sklearn-color-text-muted);\n",
       "}\n",
       "\n",
       "#sk-container-id-4 label.sk-toggleable__label-arrow:before {\n",
       "  /* Arrow on the left of the label */\n",
       "  content: \"▸\";\n",
       "  float: left;\n",
       "  margin-right: 0.25em;\n",
       "  color: var(--sklearn-color-icon);\n",
       "}\n",
       "\n",
       "#sk-container-id-4 label.sk-toggleable__label-arrow:hover:before {\n",
       "  color: var(--sklearn-color-text);\n",
       "}\n",
       "\n",
       "/* Toggleable content - dropdown */\n",
       "\n",
       "#sk-container-id-4 div.sk-toggleable__content {\n",
       "  max-height: 0;\n",
       "  max-width: 0;\n",
       "  overflow: hidden;\n",
       "  text-align: left;\n",
       "  /* unfitted */\n",
       "  background-color: var(--sklearn-color-unfitted-level-0);\n",
       "}\n",
       "\n",
       "#sk-container-id-4 div.sk-toggleable__content.fitted {\n",
       "  /* fitted */\n",
       "  background-color: var(--sklearn-color-fitted-level-0);\n",
       "}\n",
       "\n",
       "#sk-container-id-4 div.sk-toggleable__content pre {\n",
       "  margin: 0.2em;\n",
       "  border-radius: 0.25em;\n",
       "  color: var(--sklearn-color-text);\n",
       "  /* unfitted */\n",
       "  background-color: var(--sklearn-color-unfitted-level-0);\n",
       "}\n",
       "\n",
       "#sk-container-id-4 div.sk-toggleable__content.fitted pre {\n",
       "  /* unfitted */\n",
       "  background-color: var(--sklearn-color-fitted-level-0);\n",
       "}\n",
       "\n",
       "#sk-container-id-4 input.sk-toggleable__control:checked~div.sk-toggleable__content {\n",
       "  /* Expand drop-down */\n",
       "  max-height: 200px;\n",
       "  max-width: 100%;\n",
       "  overflow: auto;\n",
       "}\n",
       "\n",
       "#sk-container-id-4 input.sk-toggleable__control:checked~label.sk-toggleable__label-arrow:before {\n",
       "  content: \"▾\";\n",
       "}\n",
       "\n",
       "/* Pipeline/ColumnTransformer-specific style */\n",
       "\n",
       "#sk-container-id-4 div.sk-label input.sk-toggleable__control:checked~label.sk-toggleable__label {\n",
       "  color: var(--sklearn-color-text);\n",
       "  background-color: var(--sklearn-color-unfitted-level-2);\n",
       "}\n",
       "\n",
       "#sk-container-id-4 div.sk-label.fitted input.sk-toggleable__control:checked~label.sk-toggleable__label {\n",
       "  background-color: var(--sklearn-color-fitted-level-2);\n",
       "}\n",
       "\n",
       "/* Estimator-specific style */\n",
       "\n",
       "/* Colorize estimator box */\n",
       "#sk-container-id-4 div.sk-estimator input.sk-toggleable__control:checked~label.sk-toggleable__label {\n",
       "  /* unfitted */\n",
       "  background-color: var(--sklearn-color-unfitted-level-2);\n",
       "}\n",
       "\n",
       "#sk-container-id-4 div.sk-estimator.fitted input.sk-toggleable__control:checked~label.sk-toggleable__label {\n",
       "  /* fitted */\n",
       "  background-color: var(--sklearn-color-fitted-level-2);\n",
       "}\n",
       "\n",
       "#sk-container-id-4 div.sk-label label.sk-toggleable__label,\n",
       "#sk-container-id-4 div.sk-label label {\n",
       "  /* The background is the default theme color */\n",
       "  color: var(--sklearn-color-text-on-default-background);\n",
       "}\n",
       "\n",
       "/* On hover, darken the color of the background */\n",
       "#sk-container-id-4 div.sk-label:hover label.sk-toggleable__label {\n",
       "  color: var(--sklearn-color-text);\n",
       "  background-color: var(--sklearn-color-unfitted-level-2);\n",
       "}\n",
       "\n",
       "/* Label box, darken color on hover, fitted */\n",
       "#sk-container-id-4 div.sk-label.fitted:hover label.sk-toggleable__label.fitted {\n",
       "  color: var(--sklearn-color-text);\n",
       "  background-color: var(--sklearn-color-fitted-level-2);\n",
       "}\n",
       "\n",
       "/* Estimator label */\n",
       "\n",
       "#sk-container-id-4 div.sk-label label {\n",
       "  font-family: monospace;\n",
       "  font-weight: bold;\n",
       "  display: inline-block;\n",
       "  line-height: 1.2em;\n",
       "}\n",
       "\n",
       "#sk-container-id-4 div.sk-label-container {\n",
       "  text-align: center;\n",
       "}\n",
       "\n",
       "/* Estimator-specific */\n",
       "#sk-container-id-4 div.sk-estimator {\n",
       "  font-family: monospace;\n",
       "  border: 1px dotted var(--sklearn-color-border-box);\n",
       "  border-radius: 0.25em;\n",
       "  box-sizing: border-box;\n",
       "  margin-bottom: 0.5em;\n",
       "  /* unfitted */\n",
       "  background-color: var(--sklearn-color-unfitted-level-0);\n",
       "}\n",
       "\n",
       "#sk-container-id-4 div.sk-estimator.fitted {\n",
       "  /* fitted */\n",
       "  background-color: var(--sklearn-color-fitted-level-0);\n",
       "}\n",
       "\n",
       "/* on hover */\n",
       "#sk-container-id-4 div.sk-estimator:hover {\n",
       "  /* unfitted */\n",
       "  background-color: var(--sklearn-color-unfitted-level-2);\n",
       "}\n",
       "\n",
       "#sk-container-id-4 div.sk-estimator.fitted:hover {\n",
       "  /* fitted */\n",
       "  background-color: var(--sklearn-color-fitted-level-2);\n",
       "}\n",
       "\n",
       "/* Specification for estimator info (e.g. \"i\" and \"?\") */\n",
       "\n",
       "/* Common style for \"i\" and \"?\" */\n",
       "\n",
       ".sk-estimator-doc-link,\n",
       "a:link.sk-estimator-doc-link,\n",
       "a:visited.sk-estimator-doc-link {\n",
       "  float: right;\n",
       "  font-size: smaller;\n",
       "  line-height: 1em;\n",
       "  font-family: monospace;\n",
       "  background-color: var(--sklearn-color-background);\n",
       "  border-radius: 1em;\n",
       "  height: 1em;\n",
       "  width: 1em;\n",
       "  text-decoration: none !important;\n",
       "  margin-left: 0.5em;\n",
       "  text-align: center;\n",
       "  /* unfitted */\n",
       "  border: var(--sklearn-color-unfitted-level-1) 1pt solid;\n",
       "  color: var(--sklearn-color-unfitted-level-1);\n",
       "}\n",
       "\n",
       ".sk-estimator-doc-link.fitted,\n",
       "a:link.sk-estimator-doc-link.fitted,\n",
       "a:visited.sk-estimator-doc-link.fitted {\n",
       "  /* fitted */\n",
       "  border: var(--sklearn-color-fitted-level-1) 1pt solid;\n",
       "  color: var(--sklearn-color-fitted-level-1);\n",
       "}\n",
       "\n",
       "/* On hover */\n",
       "div.sk-estimator:hover .sk-estimator-doc-link:hover,\n",
       ".sk-estimator-doc-link:hover,\n",
       "div.sk-label-container:hover .sk-estimator-doc-link:hover,\n",
       ".sk-estimator-doc-link:hover {\n",
       "  /* unfitted */\n",
       "  background-color: var(--sklearn-color-unfitted-level-3);\n",
       "  color: var(--sklearn-color-background);\n",
       "  text-decoration: none;\n",
       "}\n",
       "\n",
       "div.sk-estimator.fitted:hover .sk-estimator-doc-link.fitted:hover,\n",
       ".sk-estimator-doc-link.fitted:hover,\n",
       "div.sk-label-container:hover .sk-estimator-doc-link.fitted:hover,\n",
       ".sk-estimator-doc-link.fitted:hover {\n",
       "  /* fitted */\n",
       "  background-color: var(--sklearn-color-fitted-level-3);\n",
       "  color: var(--sklearn-color-background);\n",
       "  text-decoration: none;\n",
       "}\n",
       "\n",
       "/* Span, style for the box shown on hovering the info icon */\n",
       ".sk-estimator-doc-link span {\n",
       "  display: none;\n",
       "  z-index: 9999;\n",
       "  position: relative;\n",
       "  font-weight: normal;\n",
       "  right: .2ex;\n",
       "  padding: .5ex;\n",
       "  margin: .5ex;\n",
       "  width: min-content;\n",
       "  min-width: 20ex;\n",
       "  max-width: 50ex;\n",
       "  color: var(--sklearn-color-text);\n",
       "  box-shadow: 2pt 2pt 4pt #999;\n",
       "  /* unfitted */\n",
       "  background: var(--sklearn-color-unfitted-level-0);\n",
       "  border: .5pt solid var(--sklearn-color-unfitted-level-3);\n",
       "}\n",
       "\n",
       ".sk-estimator-doc-link.fitted span {\n",
       "  /* fitted */\n",
       "  background: var(--sklearn-color-fitted-level-0);\n",
       "  border: var(--sklearn-color-fitted-level-3);\n",
       "}\n",
       "\n",
       ".sk-estimator-doc-link:hover span {\n",
       "  display: block;\n",
       "}\n",
       "\n",
       "/* \"?\"-specific style due to the `<a>` HTML tag */\n",
       "\n",
       "#sk-container-id-4 a.estimator_doc_link {\n",
       "  float: right;\n",
       "  font-size: 1rem;\n",
       "  line-height: 1em;\n",
       "  font-family: monospace;\n",
       "  background-color: var(--sklearn-color-background);\n",
       "  border-radius: 1rem;\n",
       "  height: 1rem;\n",
       "  width: 1rem;\n",
       "  text-decoration: none;\n",
       "  /* unfitted */\n",
       "  color: var(--sklearn-color-unfitted-level-1);\n",
       "  border: var(--sklearn-color-unfitted-level-1) 1pt solid;\n",
       "}\n",
       "\n",
       "#sk-container-id-4 a.estimator_doc_link.fitted {\n",
       "  /* fitted */\n",
       "  border: var(--sklearn-color-fitted-level-1) 1pt solid;\n",
       "  color: var(--sklearn-color-fitted-level-1);\n",
       "}\n",
       "\n",
       "/* On hover */\n",
       "#sk-container-id-4 a.estimator_doc_link:hover {\n",
       "  /* unfitted */\n",
       "  background-color: var(--sklearn-color-unfitted-level-3);\n",
       "  color: var(--sklearn-color-background);\n",
       "  text-decoration: none;\n",
       "}\n",
       "\n",
       "#sk-container-id-4 a.estimator_doc_link.fitted:hover {\n",
       "  /* fitted */\n",
       "  background-color: var(--sklearn-color-fitted-level-3);\n",
       "}\n",
       "</style><div id=\"sk-container-id-4\" class=\"sk-top-container\"><div class=\"sk-text-repr-fallback\"><pre>LinearRegression()</pre><b>In a Jupyter environment, please rerun this cell to show the HTML representation or trust the notebook. <br />On GitHub, the HTML representation is unable to render, please try loading this page with nbviewer.org.</b></div><div class=\"sk-container\" hidden><div class=\"sk-item\"><div class=\"sk-estimator fitted sk-toggleable\"><input class=\"sk-toggleable__control sk-hidden--visually\" id=\"sk-estimator-id-4\" type=\"checkbox\" checked><label for=\"sk-estimator-id-4\" class=\"sk-toggleable__label fitted sk-toggleable__label-arrow\"><div><div>LinearRegression</div></div><div><a class=\"sk-estimator-doc-link fitted\" rel=\"noreferrer\" target=\"_blank\" href=\"https://scikit-learn.org/1.6/modules/generated/sklearn.linear_model.LinearRegression.html\">?<span>Documentation for LinearRegression</span></a><span class=\"sk-estimator-doc-link fitted\">i<span>Fitted</span></span></div></label><div class=\"sk-toggleable__content fitted\"><pre>LinearRegression()</pre></div> </div></div></div></div>"
      ],
      "text/plain": [
       "LinearRegression()"
      ]
     },
     "execution_count": 401,
     "metadata": {},
     "output_type": "execute_result"
    }
   ],
   "source": [
    "model = LinearRegression()\n",
    "model.fit(X_train, y_train)"
   ]
  },
  {
   "cell_type": "markdown",
   "id": "361880e2",
   "metadata": {},
   "source": [
    "Use the trained model to generate predictions for the test dataset (X_test)"
   ]
  },
  {
   "cell_type": "code",
   "execution_count": 402,
   "id": "4a762baa",
   "metadata": {},
   "outputs": [],
   "source": [
    "predictions = model.predict(X_test)"
   ]
  },
  {
   "cell_type": "markdown",
   "id": "c8785501",
   "metadata": {},
   "source": [
    "Evaluate the model’s performance by printing the $ R^2 $ score (how well the model explains the variance in the target), the *Mean Squared Error* (average squared difference between actual and predicted values), and the first five predicted anxiety levels."
   ]
  },
  {
   "cell_type": "code",
   "execution_count": 403,
   "id": "abea1265",
   "metadata": {},
   "outputs": [
    {
     "name": "stdout",
     "output_type": "stream",
     "text": [
      "R^2 Score: 0.7270465063639986\n",
      "Mean Squared Error: 1.2647787383447473\n",
      "Predicted Anxiety Levels: [5.26427929 4.82602099 6.98883174 1.418975   2.8754297 ]\n"
     ]
    }
   ],
   "source": [
    "print(\"R^2 Score:\", r2_score(y_test, predictions))\n",
    "print(\"Mean Squared Error:\", mean_squared_error(y_test, predictions))\n",
    "print(\"Predicted Anxiety Levels:\", predictions[:5])"
   ]
  },
  {
   "cell_type": "markdown",
   "id": "a0df4c0c",
   "metadata": {},
   "source": [
    "R² Score (0.7270) – The model explains about 72.7% of the variance in the target variable.\n",
    "\n",
    "Mean Squared Error (1.2648) – On average, predictions deviate from actual values by about √1.26 ≈ 1.12 units.\n",
    "\n",
    "Predicted Anxiety Levels – The first five predicted scores for anxiety on a 1–10 scale."
   ]
  },
  {
   "cell_type": "markdown",
   "id": "10a65589",
   "metadata": {},
   "source": [
    "Extract the learned coefficients from the trained Linear Regression model, match them to their corresponding feature names, sort them in descending order of value, and print the results."
   ]
  },
  {
   "cell_type": "code",
   "execution_count": 404,
   "id": "be4e5452",
   "metadata": {},
   "outputs": [
    {
     "name": "stdout",
     "output_type": "stream",
     "text": [
      "Feature Coefficients:\n",
      "stress_level_1_10                  0.383161\n",
      "therapy_sessions_per_month         0.253720\n",
      "smoking                            0.085796\n",
      "dizziness                          0.064591\n",
      "medication                         0.060910\n",
      "sweating_level_1_5                 0.046178\n",
      "recent_major_life_event            0.026446\n",
      "breathing_rate_breaths_min         0.012290\n",
      "alcohol_consumption_drinks_week    0.010285\n",
      "heart_rate_bpm                     0.004557\n",
      "caffeine_intake_mg_day             0.002242\n",
      "age                               -0.007937\n",
      "diet_quality_1_10                 -0.034776\n",
      "physical_activity_hrs_week        -0.071292\n",
      "family_history_of_anxiety         -0.096003\n",
      "sleep_hours                       -0.447868\n",
      "dtype: float64\n"
     ]
    }
   ],
   "source": [
    "coefficients = pd.Series(model.coef_, index=features.columns).sort_values(ascending=False)\n",
    "print(\"Feature Coefficients:\")\n",
    "print(coefficients)"
   ]
  },
  {
   "cell_type": "markdown",
   "id": "9f28f4be",
   "metadata": {},
   "source": [
    "The largest positive coefficient is for stress_level_1_10 (0.383), meaning that for each one-point increase in stress level, the predicted anxiety score increases by 0.383 units, holding other variables constant.\n",
    "\n",
    "The second largest is therapy_sessions_per_month (0.254), suggesting that individuals with higher anxiety levels tend to attend more therapy sessions.\n",
    "\n",
    "Notably, sleep_hours (-0.448) has the strongest negative association, indicating that more sleep is linked to lower anxiety levels."
   ]
  },
  {
   "cell_type": "markdown",
   "id": "916e18a5",
   "metadata": {},
   "source": [
    "## Datasets\n",
    "\n",
    "[Student Depression Dataset.](https://www.kaggle.com/datasets/hopesb/student-depression-dataset)\n",
    "\n",
    "[Social Anxiety Dataset](https://www.kaggle.com/datasets/natezhang123/social-anxiety-dataset/data)\n",
    "\n",
    "[OCD Patient Dataset: Demographics & Clinical Data](https://www.kaggle.com/datasets/ohinhaque/ocd-patient-dataset-demographics-and-clinical-data)"
   ]
  }
 ],
 "metadata": {
  "kernelspec": {
   "display_name": "Python 3",
   "language": "python",
   "name": "python3"
  },
  "language_info": {
   "codemirror_mode": {
    "name": "ipython",
    "version": 3
   },
   "file_extension": ".py",
   "mimetype": "text/x-python",
   "name": "python",
   "nbconvert_exporter": "python",
   "pygments_lexer": "ipython3",
   "version": "3.13.0"
  }
 },
 "nbformat": 4,
 "nbformat_minor": 5
}
