{
 "cells": [
  {
   "cell_type": "markdown",
   "id": "d6912c1a",
   "metadata": {},
   "source": [
    "# Mental disorders analysis"
   ]
  },
  {
   "cell_type": "markdown",
   "id": "916e18a5",
   "metadata": {},
   "source": [
    "## Sources\n",
    "\n",
    "[Student Depression Dataset.](https://www.kaggle.com/datasets/hopesb/student-depression-dataset)\n",
    "\n",
    "[OCD Patient Dataset: Demographics & Clinical Data](https://www.kaggle.com/datasets/ohinhaque/ocd-patient-dataset-demographics-and-clinical-data)\n",
    "\n",
    "[Depression Dataset](https://www.kaggle.com/datasets/anthonytherrien/depression-dataset)\n",
    "\n",
    "[Mental Disorders Dataset](https://www.kaggle.com/datasets/baselbakeer/mental-disorders-dataset/data)\n",
    "\n",
    "[OCD_Social_Media_Dataset](https://www.kaggle.com/datasets/bhagvendersingh/ocd-social-media-dataset)\n",
    "\n",
    "[Social Anxiety Dataset](https://www.kaggle.com/datasets/natezhang123/social-anxiety-dataset/data)\n",
    "\n",
    "[Anxiety and Depression Mental Health Factors](https://www.kaggle.com/datasets/ak0212/anxiety-and-depression-mental-health-factors)"
   ]
  }
 ],
 "metadata": {
  "kernelspec": {
   "display_name": "Python 3",
   "language": "python",
   "name": "python3"
  },
  "language_info": {
   "codemirror_mode": {
    "name": "ipython",
    "version": 3
   },
   "file_extension": ".py",
   "mimetype": "text/x-python",
   "name": "python",
   "nbconvert_exporter": "python",
   "pygments_lexer": "ipython3",
   "version": "3.13.0"
  }
 },
 "nbformat": 4,
 "nbformat_minor": 5
}
